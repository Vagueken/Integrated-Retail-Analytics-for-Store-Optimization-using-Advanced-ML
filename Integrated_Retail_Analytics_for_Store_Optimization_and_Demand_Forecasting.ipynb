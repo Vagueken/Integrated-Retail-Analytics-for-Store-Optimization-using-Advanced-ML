{
  "nbformat": 4,
  "nbformat_minor": 0,
  "metadata": {
    "colab": {
      "private_outputs": true,
      "provenance": [],
      "collapsed_sections": [
        "gCX9965dhzqZ"
      ],
      "include_colab_link": true
    },
    "kernelspec": {
      "name": "python3",
      "display_name": "Python 3"
    },
    "language_info": {
      "name": "python"
    }
  },
  "cells": [
    {
      "cell_type": "markdown",
      "metadata": {
        "id": "view-in-github",
        "colab_type": "text"
      },
      "source": [
        "<a href=\"https://colab.research.google.com/github/Vagueken/Integrated-Retail-Analytics-for-Store-Optimization-using-Advanced-ML/blob/main/Integrated_Retail_Analytics_for_Store_Optimization_and_Demand_Forecasting.ipynb\" target=\"_parent\"><img src=\"https://colab.research.google.com/assets/colab-badge.svg\" alt=\"Open In Colab\"/></a>"
      ]
    },
    {
      "cell_type": "markdown",
      "source": [
        "# **Project Name**    - Integrated Retail Analytics for Store Optimization and Demand Forecasting\n",
        "\n"
      ],
      "metadata": {
        "id": "vncDsAP0Gaoa"
      }
    },
    {
      "cell_type": "markdown",
      "source": [
        "##### **Project Type**    - EDA/Regression/Unsupervised\n"
      ],
      "metadata": {
        "id": "beRrZCGUAJYm"
      }
    },
    {
      "cell_type": "markdown",
      "source": [
        "# **Project Summary -**"
      ],
      "metadata": {
        "id": "FJNUwmbgGyua"
      }
    },
    {
      "cell_type": "markdown",
      "source": [
        "This project integrates retail analytics to optimize store performance and forecast demand using machine learning. We analyzed three datasets: stores, features, and sales. Key steps included data preprocessing (handling missing values in markdowns by filling with 0), merging datasets, feature engineering (date components, total markdown), anomaly detection using Isolation Forest on weekly sales, time-series analysis for trends, customer segmentation via KMeans on store features, inferred market basket analysis through department correlations, demand forecasting with Random Forest Regressor, and analysis of external factors like CPI and unemployment. Insights led to strategies for inventory management, personalized marketing, and store optimization. Models showed good performance with RMSE for forecasting and silhouette score for segmentation."
      ],
      "metadata": {
        "id": "F6v_1wHtG2nS"
      }
    },
    {
      "cell_type": "markdown",
      "source": [
        "This project leverages machine learning to optimize retail store performance and forecast demand using three datasets: **stores** (store type and size), **features** (weekly external factors like temperature, fuel price, markdowns, CPI, unemployment, holidays), and **sales** (weekly department-level sales). The analysis includes:\n",
        "- **Data Preprocessing**: Handled missing values (markdowns to 0, CPI/unemployment forward-filled), removed outliers via Isolation Forest, and checked for invalid data (e.g., negative sales).\n",
        "- **Feature Engineering**: Created date-based features (Year, Month, Week), Total_MarkDown, lagged sales, and holiday proximity indicators to capture temporal and promotional effects.\n",
        "- **Exploratory Data Analysis (EDA)**: Conducted univariate, bivariate, and multivariate analyses to uncover trends, such as holiday sales spikes and store size impact.\n",
        "- **Machine Learning**:\n",
        "  - **Anomaly Detection**: Isolation Forest to remove extreme sales outliers.\n",
        "  - **Customer Segmentation**: KMeans to cluster stores and infer customer segments via department sales patterns.\n",
        "  - **Demand Forecasting**: Random Forest and ARIMA for accurate sales predictions.\n",
        "  - **Market Basket Analysis**: Inferred department co-purchases from sales correlations.\n",
        "- **External Factors**: Analyzed CPI, unemployment, and fuel prices using feature importance and partial dependence plots.\n",
        "- **Business Strategies**: Proposed inventory management, targeted marketing, and store optimization based on insights.\n",
        "\n",
        "The models achieved low RMSE for forecasting and high silhouette scores for segmentation, providing actionable insights for inventory planning, personalized marketing, and operational efficiency."
      ],
      "metadata": {
        "id": "gIfDvo9L0UH2"
      }
    },
    {
      "cell_type": "markdown",
      "source": [
        "# **GitHub Link -**"
      ],
      "metadata": {
        "id": "w6K7xa23Elo4"
      }
    },
    {
      "cell_type": "markdown",
      "source": [
        "https://github.com/Vagueken/Integrated-Retail-Analytics-for-Store-Optimization-using-Advanced-ML"
      ],
      "metadata": {
        "id": "h1o69JH3Eqqn"
      }
    },
    {
      "cell_type": "markdown",
      "source": [
        "# **Problem Statement**"
      ],
      "metadata": {
        "id": "yQaldy8SH6Dl"
      }
    },
    {
      "cell_type": "markdown",
      "source": [
        "To utilize machine learning and data analysis techniques to optimize store performance, forecast demand, and enhance customer experience through segmentation and personalized marketing strategies in a retail environment using provided datasets on stores, features, and sales."
      ],
      "metadata": {
        "id": "DpeJGUA3kjGy"
      }
    },
    {
      "cell_type": "markdown",
      "source": [
        "# ***Let's Begin !***"
      ],
      "metadata": {
        "id": "O_i_v8NEhb9l"
      }
    },
    {
      "cell_type": "markdown",
      "source": [
        "## ***1. Know Your Data***"
      ],
      "metadata": {
        "id": "HhfV-JJviCcP"
      }
    },
    {
      "cell_type": "markdown",
      "source": [
        "### Import Libraries"
      ],
      "metadata": {
        "id": "Y3lxredqlCYt"
      }
    },
    {
      "cell_type": "code",
      "execution_count": null,
      "metadata": {
        "id": "U1K3LtFdDawZ"
      },
      "outputs": [],
      "source": [
        "# Import Libraries\n",
        "import pandas as pd\n",
        "import numpy as np\n",
        "import matplotlib.pyplot as plt\n",
        "import seaborn as sns\n",
        "from sklearn.model_selection import train_test_split, GridSearchCV\n",
        "from sklearn.ensemble import IsolationForest, RandomForestRegressor\n",
        "from sklearn.cluster import KMeans\n",
        "from sklearn.metrics import mean_squared_error, mean_absolute_error, r2_score, silhouette_score, davies_bouldin_score\n",
        "from sklearn.preprocessing import StandardScaler\n",
        "from statsmodels.tsa.arima.model import ARIMA\n",
        "from statsmodels.tsa.seasonal import seasonal_decompose\n",
        "from sklearn.inspection import partial_dependence\n",
        "from sklearn import set_config\n",
        "import joblib\n",
        "import warnings\n",
        "warnings.filterwarnings('ignore')\n",
        "set_config(display='diagram')"
      ]
    },
    {
      "cell_type": "markdown",
      "source": [
        "### Dataset Loading"
      ],
      "metadata": {
        "id": "3RnN4peoiCZX"
      }
    },
    {
      "cell_type": "code",
      "source": [
        "from google.colab import drive\n",
        "drive.mount('/content/drive')"
      ],
      "metadata": {
        "id": "4CkvbW_SlZ_R"
      },
      "execution_count": null,
      "outputs": []
    },
    {
      "cell_type": "code",
      "execution_count": null,
      "metadata": {
        "id": "W4yZoCHFDawb"
      },
      "outputs": [],
      "source": [
        "# Load Datasets (Assuming CSVs are uploaded in Colab)\n",
        "stores = pd.read_csv('/content/drive/MyDrive/AlmaBetter DS/Capstone Project/Masters/Capstone Project: Advanced Machine Learning 3/stores data-set.csv')\n",
        "features = pd.read_csv('/content/drive/MyDrive/AlmaBetter DS/Capstone Project/Masters/Capstone Project: Advanced Machine Learning 3/Features data set.csv')\n",
        "sales = pd.read_csv('/content/drive/MyDrive/AlmaBetter DS/Capstone Project/Masters/Capstone Project: Advanced Machine Learning 3/sales data-set.csv')"
      ]
    },
    {
      "cell_type": "markdown",
      "source": [
        "### Dataset First View"
      ],
      "metadata": {
        "id": "x71ZqKXriCWQ"
      }
    },
    {
      "cell_type": "code",
      "source": [
        "# Dataset First Look\n",
        "print(\"Stores:\")\n",
        "display(stores.head())\n",
        "print(\"Features:\")\n",
        "display(features.head())\n",
        "print(\"Sales:\")\n",
        "display(sales.head())"
      ],
      "metadata": {
        "id": "LWNFOSvLl09H"
      },
      "execution_count": null,
      "outputs": []
    },
    {
      "cell_type": "markdown",
      "source": [
        "### Dataset Rows & Columns count"
      ],
      "metadata": {
        "id": "7hBIi_osiCS2"
      }
    },
    {
      "cell_type": "code",
      "source": [
        "# Dataset Rows & Columns count\n",
        "print(f\"Stores shape: {stores.shape}\")\n",
        "print(f\"Features shape: {features.shape}\")\n",
        "print(f\"Sales shape: {sales.shape}\")"
      ],
      "metadata": {
        "id": "Kllu7SJgmLij"
      },
      "execution_count": null,
      "outputs": []
    },
    {
      "cell_type": "markdown",
      "source": [
        "### Dataset Information"
      ],
      "metadata": {
        "id": "JlHwYmJAmNHm"
      }
    },
    {
      "cell_type": "code",
      "source": [
        "# Dataset Info\n",
        "print(\"Stores Info:\")\n",
        "stores.info()\n",
        "print(\"\\nFeatures Info:\")\n",
        "features.info()\n",
        "print(\"\\nSales Info:\")\n",
        "sales.info()"
      ],
      "metadata": {
        "id": "e9hRXRi6meOf"
      },
      "execution_count": null,
      "outputs": []
    },
    {
      "cell_type": "markdown",
      "source": [
        "#### Duplicate Values"
      ],
      "metadata": {
        "id": "35m5QtbWiB9F"
      }
    },
    {
      "cell_type": "code",
      "source": [
        "# Dataset Duplicate Value Count\n",
        "print(f\"Stores duplicates: {stores.duplicated().sum()}\")\n",
        "print(f\"Features duplicates: {features.duplicated().sum()}\")\n",
        "print(f\"Sales duplicates: {sales.duplicated().sum()}\")"
      ],
      "metadata": {
        "id": "1sLdpKYkmox0"
      },
      "execution_count": null,
      "outputs": []
    },
    {
      "cell_type": "markdown",
      "source": [
        "#### Missing Values/Null Values"
      ],
      "metadata": {
        "id": "PoPl-ycgm1ru"
      }
    },
    {
      "cell_type": "code",
      "source": [
        "# Missing Values/Null Values Count\n",
        "print(\"Stores missing:\")\n",
        "print(stores.isnull().sum())\n",
        "print(\"\\nFeatures missing:\")\n",
        "print(features.isnull().sum())\n",
        "print(\"\\nSales missing:\")\n",
        "print(sales.isnull().sum())"
      ],
      "metadata": {
        "id": "GgHWkxvamxVg"
      },
      "execution_count": null,
      "outputs": []
    },
    {
      "cell_type": "code",
      "source": [
        "# Visualizing the missing values\n",
        "plt.figure(figsize=(12,6))\n",
        "sns.heatmap(features.isnull(), cbar=False, cmap='viridis')\n",
        "plt.title('Missing Values in Features')\n",
        "plt.show()"
      ],
      "metadata": {
        "id": "3q5wnI3om9sJ"
      },
      "execution_count": null,
      "outputs": []
    },
    {
      "cell_type": "markdown",
      "source": [
        "### What did you know about your dataset?"
      ],
      "metadata": {
        "id": "H0kj-8xxnORC"
      }
    },
    {
      "cell_type": "markdown",
      "source": [
        "The dataset consists of three parts: Stores (45 stores with type and size), Features (weekly external factors like temperature, fuel price, markdowns, CPI, unemployment, holidays for each store), and Sales (weekly sales per store and department). Markdowns have many NA values, likely meaning no markdown. Dates range from 2010 to 2013. No duplicates, some missing in CPI/Unemployment towards the end."
      ],
      "metadata": {
        "id": "gfoNAAC-nUe_"
      }
    },
    {
      "cell_type": "markdown",
      "source": [
        "The dataset includes **Stores** (45 stores, type A/B/C, size), **Features** (weekly data on temperature, fuel price, markdowns, CPI, unemployment, holidays), and **Sales** (weekly sales by store and department). Markdowns have many missing values (likely no promotions), handled by filling with 0. CPI/Unemployment have missing values towards the end, handled via forward-fill. No duplicates found. Negative sales (if any) are removed as invalid. Dates span 2010–2013, enabling time-series analysis."
      ],
      "metadata": {
        "id": "sWT2HJGzz1mW"
      }
    },
    {
      "cell_type": "markdown",
      "source": [
        "## ***2. Understanding Your Variables***"
      ],
      "metadata": {
        "id": "nA9Y7ga8ng1Z"
      }
    },
    {
      "cell_type": "code",
      "source": [
        "# Dataset Columns\n",
        "print(\"Stores columns:\", stores.columns.tolist())\n",
        "print(\"Features columns:\", features.columns.tolist())\n",
        "print(\"Sales columns:\", sales.columns.tolist())"
      ],
      "metadata": {
        "id": "j7xfkqrt5Ag5"
      },
      "execution_count": null,
      "outputs": []
    },
    {
      "cell_type": "code",
      "source": [
        "# Dataset Describe\n",
        "print(\"Stores Describe:\")\n",
        "display(stores.describe())\n",
        "print(\"Features Describe:\")\n",
        "display(features.describe())\n",
        "print(\"Sales Describe:\")\n",
        "display(sales.describe())"
      ],
      "metadata": {
        "id": "DnOaZdaE5Q5t"
      },
      "execution_count": null,
      "outputs": []
    },
    {
      "cell_type": "markdown",
      "source": [
        "### Variables Description"
      ],
      "metadata": {
        "id": "PBTbrJXOngz2"
      }
    },
    {
      "cell_type": "markdown",
      "source": [
        "- **Store**: Store number (1-45)\n",
        "- **Type**: Store type (A, B, C)\n",
        "- **Size**: Store size in sq ft\n",
        "- **Date**: Week date\n",
        "- **Temperature**: Avg weekly temp\n",
        "- **Fuel_Price**: Fuel cost\n",
        "- **MarkDown1-5**: Promotional markdowns (anonymized)\n",
        "- **CPI**: Consumer Price Index\n",
        "- **Unemployment**: Unemployment rate\n",
        "- **IsHoliday**: If week has holiday\n",
        "- **Dept**: Department number\n",
        "- **Weekly_Sales**: Sales for the week per store/dept"
      ],
      "metadata": {
        "id": "aJV4KIxSnxay"
      }
    },
    {
      "cell_type": "markdown",
      "source": [
        "### Check Unique Values for each variable."
      ],
      "metadata": {
        "id": "u3PMJOP6ngxN"
      }
    },
    {
      "cell_type": "code",
      "source": [
        "# Check Unique Values for each variable.\n",
        "for df, name in zip([stores, features, sales], ['Stores', 'Features', 'Sales']):\n",
        "    print(f\"\\nUnique values in {name}:\")\n",
        "    for col in df.columns:\n",
        "        print(f\"{col}: {df[col].nunique()} unique values\")"
      ],
      "metadata": {
        "id": "zms12Yq5n-jE"
      },
      "execution_count": null,
      "outputs": []
    },
    {
      "cell_type": "markdown",
      "source": [
        "## 3. ***Data Wrangling***"
      ],
      "metadata": {
        "id": "dauF4eBmngu3"
      }
    },
    {
      "cell_type": "markdown",
      "source": [
        "### Data Wrangling Code"
      ],
      "metadata": {
        "id": "bKJF3rekwFvQ"
      }
    },
    {
      "cell_type": "code",
      "execution_count": null,
      "metadata": {
        "id": "W4yZoCHFDawd"
      },
      "outputs": [],
      "source": [
        "# Convert Date to datetime\n",
        "features['Date'] = pd.to_datetime(features['Date'], dayfirst=True)\n",
        "sales['Date'] = pd.to_datetime(sales['Date'], dayfirst=True)\n",
        "\n",
        "# Handle missing values\n",
        "markdown_cols = ['MarkDown1', 'MarkDown2', 'MarkDown3', 'MarkDown4', 'MarkDown5']\n",
        "features[markdown_cols] = features[markdown_cols].fillna(0)  # No promotion\n",
        "features['CPI'] = features['CPI'].fillna(method='ffill')  # Assume stability\n",
        "features['Unemployment'] = features['Unemployment'].fillna(method='ffill')\n",
        "\n",
        "# Merge datasets\n",
        "data = pd.merge(sales, features, on=['Store', 'Date', 'IsHoliday'])\n",
        "data = pd.merge(data, stores, on='Store')\n",
        "\n",
        "# Feature Engineering\n",
        "data['Year'] = data['Date'].dt.year\n",
        "data['Month'] = data['Date'].dt.month\n",
        "data['Week'] = data['Date'].dt.isocalendar().week\n",
        "data['Total_MarkDown'] = data[markdown_cols].sum(axis=1)\n",
        "data['IsHoliday'] = data['IsHoliday'].astype(int)\n",
        "\n",
        "# New Features\n",
        "# Lagged sales (previous week's sales per store/dept)\n",
        "data = data.sort_values(['Store', 'Dept', 'Date'])\n",
        "data['Lag_Sales_1'] = data.groupby(['Store', 'Dept'])['Weekly_Sales'].shift(1)\n",
        "data['Lag_Sales_2'] = data.groupby(['Store', 'Dept'])['Weekly_Sales'].shift(2)\n",
        "# Holiday proximity (days to nearest holiday)\n",
        "holiday_dates = data[data['IsHoliday'] == 1]['Date'].unique()\n",
        "data['Days_To_Holiday'] = data['Date'].apply(lambda x: min(abs((x - holiday_dates).days)))\n",
        "\n",
        "# Encode categorical\n",
        "data = pd.get_dummies(data, columns=['Type'])\n",
        "\n",
        "# Drop unnecessary\n",
        "# data.drop(['Date'] + markdown_cols, axis=1, inplace=True) # Keep Date for time series\n",
        "\n",
        "# Fill NA in lagged features\n",
        "data['Lag_Sales_1'] = data['Lag_Sales_1'].fillna(data['Weekly_Sales'].mean())\n",
        "data['Lag_Sales_2'] = data['Lag_Sales_2'].fillna(data['Weekly_Sales'].mean())\n",
        "\n",
        "display(data.head())"
      ]
    },
    {
      "cell_type": "markdown",
      "source": [
        "### What all manipulations have you done and insights you found?"
      ],
      "metadata": {
        "id": "MSa1f5Uengrz"
      }
    },
    {
      "cell_type": "markdown",
      "source": [
        "Converted dates to datetime, filled missing markdowns with 0 (assuming no promo), forward-filled CPI/Unemployment. Merged on Store/Date/IsHoliday. Added Year/Month/Week/Total_MarkDown. Encoded Type. Insights: Sales vary by store size/type, holidays boost sales, markdowns correlate with higher sales periods."
      ],
      "metadata": {
        "id": "LbyXE7I1olp8"
      }
    },
    {
      "cell_type": "markdown",
      "source": [
        "**Manipulations**:\n",
        "- Converted dates to datetime for time-series analysis.\n",
        "- Filled missing markdowns with 0 (no promotion), CPI/Unemployment with forward-fill (assumes economic stability).\n",
        "- Merged datasets on Store/Date/IsHoliday.\n",
        "- Created features: Year, Month, Week, Total_MarkDown, Lag_Sales_1, Lag_Sales_2, Days_To_Holiday.\n",
        "- One-hot encoded store Type.\n",
        "- Removed negative sales and handled lagged feature NAs with mean sales.\n",
        "\n",
        "**Insights**:\n",
        "- Sales spike during holidays, vary by store size/type.\n",
        "- Lagged sales capture temporal dependencies, improving forecasting.\n",
        "- Holiday proximity may influence sales patterns, especially pre-holiday weeks.\n",
        "- Type A stores (larger) have higher sales than B/C."
      ],
      "metadata": {
        "id": "rMDnDkt2B6du"
      }
    },
    {
      "cell_type": "markdown",
      "source": [
        "#### Additional Data Cleaning: Negative Sales Check"
      ],
      "metadata": {
        "id": "A1oAq-jreS1U"
      }
    },
    {
      "cell_type": "code",
      "execution_count": null,
      "metadata": {
        "id": "W4yZoCHFDawf"
      },
      "outputs": [],
      "source": [
        "# Check for negative sales (invalid data)\n",
        "print(f\"Negative sales count: {(sales['Weekly_Sales'] < 0).sum()}\")\n",
        "# Remove negative sales\n",
        "sales = sales[sales['Weekly_Sales'] >= 0]\n",
        "print(f\"Sales shape after removing negatives: {sales.shape}\")"
      ]
    },
    {
      "cell_type": "markdown",
      "source": [
        "## ***4. Data Vizualization, Storytelling & Experimenting with charts : Understand the relationships between variables***"
      ],
      "metadata": {
        "id": "GF8Ens_Soomf"
      }
    },
    {
      "cell_type": "markdown",
      "source": [
        "#### Chart - 1"
      ],
      "metadata": {
        "id": "0wOQAZs5pc--"
      }
    },
    {
      "cell_type": "code",
      "execution_count": null,
      "metadata": {
        "id": "W4yZoCHFDawh"
      },
      "outputs": [],
      "source": [
        "# Chart - 1 visualization code\n",
        "plt.figure(figsize=(10,6))\n",
        "sns.histplot(data['Weekly_Sales'], bins=50, kde=True, color='blue')\n",
        "plt.title('Distribution of Weekly Sales')\n",
        "plt.xlabel('Weekly Sales')\n",
        "plt.ylabel('Frequency')\n",
        "plt.show()\n",
        "\n",
        "# Why: Histogram shows distribution of sales.\n",
        "# Insights: Right-skewed, most sales are low-medium, few high outliers.\n",
        "# Business Impact: Identify high-sales periods for inventory; promote low weeks to boost sales. No negative growth insights."
      ]
    },
    {
      "cell_type": "markdown",
      "source": [
        "##### 1. Why did you pick the specific chart?"
      ],
      "metadata": {
        "id": "K5QZ13OEpz2H"
      }
    },
    {
      "cell_type": "markdown",
      "source": [
        "Histogram shows distribution of numerical variable like sales."
      ],
      "metadata": {
        "id": "XESiWehPqBRc"
      }
    },
    {
      "cell_type": "markdown",
      "source": [
        "##### 2. What is/are the insight(s) found from the chart?"
      ],
      "metadata": {
        "id": "lQ7QKXXCp7Bj"
      }
    },
    {
      "cell_type": "markdown",
      "source": [
        "Sales are right-skewed, most weeks have low-medium sales, few high."
      ],
      "metadata": {
        "id": "C_j1G7yiqdRP"
      }
    },
    {
      "cell_type": "markdown",
      "source": [
        "##### 3. Will the gained insights help creating a positive business impact?\n",
        "Are there any insights that lead to negative growth? Justify with specific reason."
      ],
      "metadata": {
        "id": "448CDAPjqfQr"
      }
    },
    {
      "cell_type": "markdown",
      "source": [
        "Yes, identify high-sales periods for stocking. Skewness indicates potential for promotions to boost low weeks. No negative growth insight directly."
      ],
      "metadata": {
        "id": "KSlN3yHqYklG"
      }
    },
    {
      "cell_type": "markdown",
      "source": [
        "#### Chart - 2"
      ],
      "metadata": {
        "id": "t6dVpIINYklI"
      }
    },
    {
      "cell_type": "code",
      "execution_count": null,
      "metadata": {
        "id": "W4yZoCHFDawi"
      },
      "outputs": [],
      "source": [
        "# Chart - 2 visualization code\n",
        "plt.figure(figsize=(10,6))\n",
        "sns.boxplot(x='IsHoliday', y='Weekly_Sales', data=data, palette='Set2')\n",
        "plt.title('Weekly Sales by Holiday Status')\n",
        "plt.xlabel('Is Holiday')\n",
        "plt.ylabel('Weekly Sales')\n",
        "plt.show()\n",
        "\n",
        "# Why: Boxplot compares sales across holiday/non-holiday.\n",
        "# Insights: Higher median sales and more outliers during holidays.\n",
        "# Business Impact: Plan promotions and stock for holidays. No negative growth."
      ]
    },
    {
      "cell_type": "markdown",
      "source": [
        "##### 1. Why did you pick the specific chart?"
      ],
      "metadata": {
        "id": "-JiQyfWJYklI"
      }
    },
    {
      "cell_type": "markdown",
      "source": [
        "Boxplot for comparing numerical across categorical."
      ],
      "metadata": {
        "id": "EM7whBJCYoAo"
      }
    },
    {
      "cell_type": "markdown",
      "source": [
        "##### 2. What is/are the insight(s) found from the chart?"
      ],
      "metadata": {
        "id": "fge-S5ZAYoAp"
      }
    },
    {
      "cell_type": "markdown",
      "source": [
        "Higher median sales on holidays, more outliers."
      ],
      "metadata": {
        "id": "5dBItgRVYoAp"
      }
    },
    {
      "cell_type": "markdown",
      "source": [
        "##### 3. Will the gained insights help creating a positive business impact?\n",
        "Are there any insights that lead to negative growth? Justify with specific reason."
      ],
      "metadata": {
        "id": "85gYPyotYoAp"
      }
    },
    {
      "cell_type": "markdown",
      "source": [
        "Yes, plan promotions for holidays. No negative."
      ],
      "metadata": {
        "id": "4Of9eVA-YrdM"
      }
    },
    {
      "cell_type": "markdown",
      "source": [
        "#### Chart - 3"
      ],
      "metadata": {
        "id": "iky9q4vBYrdO"
      }
    },
    {
      "cell_type": "code",
      "execution_count": null,
      "metadata": {
        "id": "W4yZoCHFDawj"
      },
      "outputs": [],
      "source": [
        "# Chart - 3 visualization code\n",
        "plt.figure(figsize=(10,6))\n",
        "sns.scatterplot(x='Temperature', y='Weekly_Sales', data=data, alpha=0.5)\n",
        "plt.title('Weekly Sales vs Temperature')\n",
        "plt.xlabel('Temperature (°F)')\n",
        "plt.ylabel('Weekly Sales')\n",
        "plt.show()\n",
        "\n",
        "# Why: Scatter for numerical-numerical relationship.\n",
        "# Insights: No strong correlation; sales stable across temperatures.\n",
        "# Business Impact: Temperature has minimal impact; focus on other factors."
      ]
    },
    {
      "cell_type": "markdown",
      "source": [
        "##### 1. Why did you pick the specific chart?"
      ],
      "metadata": {
        "id": "y-Ehk30pYrdP"
      }
    },
    {
      "cell_type": "markdown",
      "source": [
        "Scatter for numerical-numerical relationship."
      ],
      "metadata": {
        "id": "bamQiAODYuh1"
      }
    },
    {
      "cell_type": "markdown",
      "source": [
        "##### 2. What is/are the insight(s) found from the chart?"
      ],
      "metadata": {
        "id": "QHF8YVU7Yuh3"
      }
    },
    {
      "cell_type": "markdown",
      "source": [
        "No strong correlation; sales stable across temps."
      ],
      "metadata": {
        "id": "GwzvFGzlYuh3"
      }
    },
    {
      "cell_type": "markdown",
      "source": [
        "##### 3. Will the gained insights help creating a positive business impact?\n",
        "Are there any insights that lead to negative growth? Justify with specific reason."
      ],
      "metadata": {
        "id": "qYpmQ266Yuh3"
      }
    },
    {
      "cell_type": "markdown",
      "source": [
        "Minimal impact from temperature; focus elsewhere."
      ],
      "metadata": {
        "id": "OH-pJp9IphqM"
      }
    },
    {
      "cell_type": "markdown",
      "source": [
        "#### Chart - 4"
      ],
      "metadata": {
        "id": "bbFf2-_FphqN"
      }
    },
    {
      "cell_type": "code",
      "execution_count": null,
      "metadata": {
        "id": "_P2bcmjw5fzf"
      },
      "outputs": [],
      "source": [
        "# Chart - 4 visualization code\n",
        "plt.figure(figsize=(10,6))\n",
        "sns.boxplot(x='Type_A', y='Weekly_Sales', data=data, palette='Set1')\n",
        "plt.title('Weekly Sales by Store Type A')\n",
        "plt.xlabel('Type A (1=Yes, 0=No)')\n",
        "plt.ylabel('Weekly Sales')\n",
        "plt.show()\n",
        "\n",
        "# Why: Boxplot for categorical-numerical comparison.\n",
        "# Insights: Type A stores have higher sales.\n",
        "# Business Impact: Invest in Type A stores for higher returns."
      ]
    },
    {
      "cell_type": "markdown",
      "source": [
        "##### 1. Why did you pick the specific chart?"
      ],
      "metadata": {
        "id": "Seke61FWphqN"
      }
    },
    {
      "cell_type": "markdown",
      "source": [
        "Boxplot for categorical vs numerical."
      ],
      "metadata": {
        "id": "PIIx-8_IphqN"
      }
    },
    {
      "cell_type": "markdown",
      "source": [
        "##### 2. What is/are the insight(s) found from the chart?"
      ],
      "metadata": {
        "id": "t27r6nlMphqO"
      }
    },
    {
      "cell_type": "markdown",
      "source": [
        "Type A stores have higher sales."
      ],
      "metadata": {
        "id": "r2jJGEOYphqO"
      }
    },
    {
      "cell_type": "markdown",
      "source": [
        "##### 3. Will the gained insights help creating a positive business impact?\n",
        "Are there any insights that lead to negative growth? Justify with specific reason."
      ],
      "metadata": {
        "id": "b0JNsNcRphqO"
      }
    },
    {
      "cell_type": "markdown",
      "source": [
        "Invest more in Type A stores."
      ],
      "metadata": {
        "id": "BZR9WyysphqO"
      }
    },
    {
      "cell_type": "markdown",
      "source": [
        "#### Chart - 5"
      ],
      "metadata": {
        "id": "jj7wYXLtphqO"
      }
    },
    {
      "cell_type": "code",
      "execution_count": null,
      "metadata": {
        "id": "W4yZoCHFDawk"
      },
      "outputs": [],
      "source": [
        "# Chart - 5 visualization code\n",
        "plt.figure(figsize=(10,6))\n",
        "sns.lineplot(x='Month', y='Weekly_Sales', data=data.groupby('Month')['Weekly_Sales'].mean().reset_index(), marker='o', color='green')\n",
        "plt.title('Average Weekly Sales by Month')\n",
        "plt.xlabel('Month')\n",
        "plt.ylabel('Average Weekly Sales')\n",
        "plt.show()\n",
        "\n",
        "# Why: Lineplot for time-series trends.\n",
        "# Insights: Sales peak in December due to holidays.\n",
        "# Business Impact: Increase inventory for year-end holidays."
      ]
    },
    {
      "cell_type": "markdown",
      "source": [
        "##### 1. Why did you pick the specific chart?"
      ],
      "metadata": {
        "id": "rFu4xreNphqO"
      }
    },
    {
      "cell_type": "markdown",
      "source": [
        "Lineplot for trends over time."
      ],
      "metadata": {
        "id": "YJ55k-q6phqO"
      }
    },
    {
      "cell_type": "markdown",
      "source": [
        "##### 2. What is/are the insight(s) found from the chart?"
      ],
      "metadata": {
        "id": "gCFgpxoyphqP"
      }
    },
    {
      "cell_type": "markdown",
      "source": [
        "Peaks in December due to holidays."
      ],
      "metadata": {
        "id": "OVtJsKN_phqQ"
      }
    },
    {
      "cell_type": "markdown",
      "source": [
        "##### 3. Will the gained insights help creating a positive business impact?\n",
        "Are there any insights that lead to negative growth? Justify with specific reason."
      ],
      "metadata": {
        "id": "lssrdh5qphqQ"
      }
    },
    {
      "cell_type": "markdown",
      "source": [
        "Prepare inventory for year-end."
      ],
      "metadata": {
        "id": "U2RJ9gkRphqQ"
      }
    },
    {
      "cell_type": "markdown",
      "source": [
        "#### Chart - 6"
      ],
      "metadata": {
        "id": "1M8mcRywphqQ"
      }
    },
    {
      "cell_type": "code",
      "execution_count": null,
      "metadata": {
        "id": "cznpGTlz5fzg"
      },
      "outputs": [],
      "source": [
        "# Chart - 6 visualization code\n",
        "plt.figure(figsize=(10,6))\n",
        "sns.scatterplot(x='Size', y='Weekly_Sales', data=data, hue='Type_A', size='Type_A')\n",
        "plt.title('Weekly Sales vs Store Size')\n",
        "plt.xlabel('Store Size (sq ft)')\n",
        "plt.ylabel('Weekly Sales')\n",
        "plt.show()\n",
        "\n",
        "# Why: Scatter with hue for size-sales relationship.\n",
        "# Insights: Larger stores (often Type A) have higher sales.\n",
        "# Business Impact: Expand larger stores or optimize smaller ones."
      ]
    },
    {
      "cell_type": "markdown",
      "source": [
        "##### 1. Why did you pick the specific chart?"
      ],
      "metadata": {
        "id": "JMzcOPDDphqR"
      }
    },
    {
      "cell_type": "markdown",
      "source": [
        "Scatter for correlation."
      ],
      "metadata": {
        "id": "x-EpHcCOp1ci"
      }
    },
    {
      "cell_type": "markdown",
      "source": [
        "##### 2. What is/are the insight(s) found from the chart?"
      ],
      "metadata": {
        "id": "X_VqEhTip1ck"
      }
    },
    {
      "cell_type": "markdown",
      "source": [
        "Larger stores have higher sales."
      ],
      "metadata": {
        "id": "8zGJKyg5p1ck"
      }
    },
    {
      "cell_type": "markdown",
      "source": [
        "##### 3. Will the gained insights help creating a positive business impact?\n",
        "Are there any insights that lead to negative growth? Justify with specific reason."
      ],
      "metadata": {
        "id": "PVzmfK_Ep1ck"
      }
    },
    {
      "cell_type": "markdown",
      "source": [
        "Expand larger stores."
      ],
      "metadata": {
        "id": "n3dbpmDWp1ck"
      }
    },
    {
      "cell_type": "markdown",
      "source": [
        "#### Chart - 7"
      ],
      "metadata": {
        "id": "ylSl6qgtp1ck"
      }
    },
    {
      "cell_type": "code",
      "execution_count": null,
      "metadata": {
        "id": "W4yZoCHFDawl"
      },
      "outputs": [],
      "source": [
        "# Chart - 7 visualization code\n",
        "plt.figure(figsize=(10,6))\n",
        "sns.barplot(x='Dept', y='Weekly_Sales', data=data.groupby('Dept')['Weekly_Sales'].mean().reset_index().sort_values('Weekly_Sales', ascending=False).head(10), palette='viridis')\n",
        "plt.title('Top 10 Departments by Average Weekly Sales')\n",
        "plt.xlabel('Department')\n",
        "plt.ylabel('Average Weekly Sales')\n",
        "plt.show()\n",
        "\n",
        "# Why: Barplot for top-performing departments.\n",
        "# Insights: Certain departments drive most sales.\n",
        "# Business Impact: Prioritize inventory for high-sales departments."
      ]
    },
    {
      "cell_type": "markdown",
      "source": [
        "##### 1. Why did you pick the specific chart?"
      ],
      "metadata": {
        "id": "M7G43BXep1ck"
      }
    },
    {
      "cell_type": "markdown",
      "source": [
        "Barplot for top categories."
      ],
      "metadata": {
        "id": "5aaW0MYBAjnV"
      }
    },
    {
      "cell_type": "markdown",
      "source": [
        "##### 2. What is/are the insight(s) found from the chart?"
      ],
      "metadata": {
        "id": "Ag9LCva-p1cl"
      }
    },
    {
      "cell_type": "markdown",
      "source": [
        "Certain depts drive most sales."
      ],
      "metadata": {
        "id": "E6MkPsBcp1cl"
      }
    },
    {
      "cell_type": "markdown",
      "source": [
        "##### 3. Will the gained insights help creating a positive business impact?\n",
        "Are there any insights that lead to negative growth? Justify with specific reason."
      ],
      "metadata": {
        "id": "2cELzS2fp1cl"
      }
    },
    {
      "cell_type": "markdown",
      "source": [
        "Focus inventory on top depts."
      ],
      "metadata": {
        "id": "3MPXvC8up1cl"
      }
    },
    {
      "cell_type": "markdown",
      "source": [
        "#### Chart - 8"
      ],
      "metadata": {
        "id": "NC_X3p0fY2L0"
      }
    },
    {
      "cell_type": "code",
      "execution_count": null,
      "metadata": {
        "id": "mEjw7Gu25fzi"
      },
      "outputs": [],
      "source": [
        "# Chart - 8 visualization code\n",
        "plt.figure(figsize=(12,8))\n",
        "sns.heatmap(data.corr(), annot=True, cmap='coolwarm', fmt='.2f')\n",
        "plt.title('Correlation Matrix')\n",
        "plt.show()\n",
        "\n",
        "# Why: Heatmap for multivariate correlations.\n",
        "# Insights: Store size and Type_A positively correlate with sales; unemployment negatively correlates.\n",
        "# Business Impact: Monitor economic factors; high unemployment may reduce sales, requiring discounts."
      ]
    },
    {
      "cell_type": "markdown",
      "source": [
        "##### 1. Why did you pick the specific chart?"
      ],
      "metadata": {
        "id": "UV0SzAkaZNRQ"
      }
    },
    {
      "cell_type": "markdown",
      "source": [
        "Heatmap for multivariate correlations."
      ],
      "metadata": {
        "id": "DVPuT8LYZNRQ"
      }
    },
    {
      "cell_type": "markdown",
      "source": [
        "##### 2. What is/are the insight(s) found from the chart?"
      ],
      "metadata": {
        "id": "YPEH6qLeZNRQ"
      }
    },
    {
      "cell_type": "markdown",
      "source": [
        "Size positively correlates with sales, unemployment negative."
      ],
      "metadata": {
        "id": "bfSqtnDqZNRR"
      }
    },
    {
      "cell_type": "markdown",
      "source": [
        "##### 3. Will the gained insights help creating a positive business impact?\n",
        "Are there any insights that lead to negative growth? Justify with specific reason."
      ],
      "metadata": {
        "id": "q29F0dvdveiT"
      }
    },
    {
      "cell_type": "markdown",
      "source": [
        "Yes, monitor economic factors. High unemployment may lead to negative growth if not addressed with discounts."
      ],
      "metadata": {
        "id": "PH-0ReGfmX4f"
      }
    },
    {
      "cell_type": "markdown",
      "source": [
        "#### Chart - 9"
      ],
      "metadata": {
        "id": "EXh0U9oCveiU"
      }
    },
    {
      "cell_type": "code",
      "execution_count": null,
      "metadata": {
        "id": "W4yZoCHFDawm"
      },
      "outputs": [],
      "source": [
        "# Chart - 9 visualization code\n",
        "plt.figure(figsize=(10,6))\n",
        "sns.boxplot(x='Year', y='Weekly_Sales', data=data, palette='Set3')\n",
        "plt.title('Weekly Sales by Year')\n",
        "plt.xlabel('Year')\n",
        "plt.ylabel('Weekly Sales')\n",
        "plt.show()\n",
        "\n",
        "# Why: Boxplot for yearly sales trends.\n",
        "# Insights: Slight sales increase over years.\n",
        "# Business Impact: Positive growth trend; continue expansion strategies."
      ]
    },
    {
      "cell_type": "markdown",
      "source": [
        "##### 1. Why did you pick the specific chart?"
      ],
      "metadata": {
        "id": "22aHeOlLveiV"
      }
    },
    {
      "cell_type": "markdown",
      "source": [
        "Boxplot for yearly comparison."
      ],
      "metadata": {
        "id": "O6dGcs5frIIr"
      }
    },
    {
      "cell_type": "markdown",
      "source": [
        "##### 2. What is/are the insight(s) found from the chart?"
      ],
      "metadata": {
        "id": "g-ATYxFrGrvw"
      }
    },
    {
      "cell_type": "markdown",
      "source": [
        "Slight increase over years."
      ],
      "metadata": {
        "id": "Yfr_Vlr8HBkt"
      }
    },
    {
      "cell_type": "markdown",
      "source": [
        "##### 3. Will the gained insights help creating a positive business impact?\n",
        "Are there any insights that lead to negative growth? Justify with specific reason."
      ],
      "metadata": {
        "id": "8yEUt7NnHlrM"
      }
    },
    {
      "cell_type": "markdown",
      "source": [
        "Growth trend positive."
      ],
      "metadata": {
        "id": "tEA2Xm5dHt1r"
      }
    },
    {
      "cell_type": "markdown",
      "source": [
        "#### Chart - 10"
      ],
      "metadata": {
        "id": "I79__PHVH19G"
      }
    },
    {
      "cell_type": "code",
      "execution_count": null,
      "metadata": {
        "id": "zzfnWOVu5fzj"
      },
      "outputs": [],
      "source": [
        "# Chart - 10 visualization code\n",
        "plt.figure(figsize=(10,6))\n",
        "sns.scatterplot(x='Fuel_Price', y='Weekly_Sales', data=data, alpha=0.5)\n",
        "plt.title('Weekly Sales vs Fuel Price')\n",
        "plt.xlabel('Fuel Price')\n",
        "plt.ylabel('Weekly Sales')\n",
        "plt.show()\n",
        "\n",
        "# Why: Scatter for economic factor impact.\n",
        "# Insights: No clear correlation with fuel price.\n",
        "# Business Impact: Fuel price not a major driver; focus on other factors."
      ]
    },
    {
      "cell_type": "markdown",
      "source": [
        "##### 1. Why did you pick the specific chart?"
      ],
      "metadata": {
        "id": "fF3858GYyt-u"
      }
    },
    {
      "cell_type": "markdown",
      "source": [
        "Scatter for relationship."
      ],
      "metadata": {
        "id": "Q7KIlP7XX7Uh"
      }
    },
    {
      "cell_type": "markdown",
      "source": [
        "##### 2. What is/are the insight(s) found from the chart?"
      ],
      "metadata": {
        "id": "4_0_7-oCpUZd"
      }
    },
    {
      "cell_type": "markdown",
      "source": [
        "No clear correlation."
      ],
      "metadata": {
        "id": "hwyV_J3ipUZe"
      }
    },
    {
      "cell_type": "markdown",
      "source": [
        "##### 3. Will the gained insights help creating a positive business impact?\n",
        "Are there any insights that lead to negative growth? Justify with specific reason."
      ],
      "metadata": {
        "id": "3yB-zSqbpUZe"
      }
    },
    {
      "cell_type": "markdown",
      "source": [
        "Fuel price not major factor."
      ],
      "metadata": {
        "id": "dEUvejAfpUZe"
      }
    },
    {
      "cell_type": "markdown",
      "source": [
        "#### Chart - 11"
      ],
      "metadata": {
        "id": "Fd15vwWVpUZf"
      }
    },
    {
      "cell_type": "code",
      "execution_count": null,
      "metadata": {
        "id": "W4yZoCHFDawn"
      },
      "outputs": [],
      "source": [
        "# Chart - 11 visualization code\n",
        "plt.figure(figsize=(10,6))\n",
        "sns.scatterplot(x='CPI', y='Weekly_Sales', data=data, alpha=0.5)\n",
        "plt.title('Weekly Sales vs CPI')\n",
        "plt.xlabel('CPI')\n",
        "plt.ylabel('Weekly Sales')\n",
        "plt.show()\n",
        "\n",
        "# Why: Scatter for economic factor impact.\n",
        "# Insights: Slight negative trend with higher CPI.\n",
        "# Business Impact: High CPI may reduce purchasing power; adjust pricing strategies."
      ]
    },
    {
      "cell_type": "markdown",
      "source": [
        "##### 1. Why did you pick the specific chart?"
      ],
      "metadata": {
        "id": "49K5P_iCpZyH"
      }
    },
    {
      "cell_type": "markdown",
      "source": [
        "Scatter for economic indicator."
      ],
      "metadata": {
        "id": "lotzHAVOpZyH"
      }
    },
    {
      "cell_type": "markdown",
      "source": [
        "##### 2. What is/are the insight(s) found from the chart?"
      ],
      "metadata": {
        "id": "Nff-vKELpZyI"
      }
    },
    {
      "cell_type": "markdown",
      "source": [
        "Slight negative trend."
      ],
      "metadata": {
        "id": "y-EhkXkKpZyI"
      }
    },
    {
      "cell_type": "markdown",
      "source": [
        "##### 3. Will the gained insights help creating a positive business impact?\n",
        "Are there any insights that lead to negative growth? Justify with specific reason."
      ],
      "metadata": {
        "id": "kLW572S8pZyI"
      }
    },
    {
      "cell_type": "markdown",
      "source": [
        "High CPI may reduce sales; adjust pricing."
      ],
      "metadata": {
        "id": "jLNxxz7MYraz"
      }
    },
    {
      "cell_type": "markdown",
      "source": [
        "#### Chart - 12"
      ],
      "metadata": {
        "id": "dWbDXHzopZyI"
      }
    },
    {
      "cell_type": "code",
      "execution_count": null,
      "metadata": {
        "id": "T_XYITtL5fzk"
      },
      "outputs": [],
      "source": [
        "# Chart - 12 visualization code\n",
        "plt.figure(figsize=(10,6))\n",
        "sns.scatterplot(x='Unemployment', y='Weekly_Sales', data=data, alpha=0.5)\n",
        "plt.title('Weekly Sales vs Unemployment Rate')\n",
        "plt.xlabel('Unemployment Rate')\n",
        "plt.ylabel('Weekly Sales')\n",
        "plt.show()\n",
        "\n",
        "# Why: Scatter for economic factor impact.\n",
        "# Insights: Negative correlation with unemployment.\n",
        "# Business Impact: High unemployment reduces sales; target low-income promotions."
      ]
    },
    {
      "cell_type": "markdown",
      "source": [
        "##### 1. Why did you pick the specific chart?"
      ],
      "metadata": {
        "id": "xiyOF9F70UgQ"
      }
    },
    {
      "cell_type": "markdown",
      "source": [
        "Scatter for relationship."
      ],
      "metadata": {
        "id": "7reCSnHL0UgQ"
      }
    },
    {
      "cell_type": "markdown",
      "source": [
        "##### 2. What is/are the insight(s) found from the chart?"
      ],
      "metadata": {
        "id": "7wuGOrhz0itI"
      }
    },
    {
      "cell_type": "markdown",
      "source": [
        "Negative correlation."
      ],
      "metadata": {
        "id": "id1riN9m0vUs"
      }
    },
    {
      "cell_type": "markdown",
      "source": [
        "##### 3. Will the gained insights help creating a positive business impact?\n",
        "Are there any insights that lead to negative growth? Justify with specific reason."
      ],
      "metadata": {
        "id": "578E2V7j08f6"
      }
    },
    {
      "cell_type": "markdown",
      "source": [
        "High unemployment hurts sales; target low-income promotions."
      ],
      "metadata": {
        "id": "89xtkJwZ18nB"
      }
    },
    {
      "cell_type": "markdown",
      "source": [
        "#### Chart - 13"
      ],
      "metadata": {
        "id": "67NQN5KX2AMe"
      }
    },
    {
      "cell_type": "code",
      "execution_count": null,
      "metadata": {
        "id": "W4yZoCHFDawo"
      },
      "outputs": [],
      "source": [
        "# Chart - 13 visualization code\n",
        "plt.figure(figsize=(10,6))\n",
        "sns.barplot(x='Store', y='Weekly_Sales', data=data.groupby('Store')['Weekly_Sales'].mean().reset_index().sort_values('Weekly_Sales', ascending=False).head(10), palette='magma')\n",
        "plt.title('Top 10 Stores by Average Weekly Sales')\n",
        "plt.xlabel('Store')\n",
        "plt.ylabel('Average Weekly Sales')\n",
        "plt.show()\n",
        "\n",
        "# Why: Barplot for top-performing stores.\n",
        "# Insights: Certain stores outperform others, likely due to size/type.\n",
        "# Business Impact: Replicate success factors (e.g., location, size) from top stores."
      ]
    },
    {
      "cell_type": "markdown",
      "source": [
        "##### 1. Why did you pick the specific chart?"
      ],
      "metadata": {
        "id": "GMQiZwjn3iu7"
      }
    },
    {
      "cell_type": "markdown",
      "source": [
        "Barplot for top performers."
      ],
      "metadata": {
        "id": "WVIkgGqN3qsr"
      }
    },
    {
      "cell_type": "markdown",
      "source": [
        "##### 2. What is/are the insight(s) found from the chart?"
      ],
      "metadata": {
        "id": "XkPnILGE3zoT"
      }
    },
    {
      "cell_type": "markdown",
      "source": [
        "Some stores outperform others."
      ],
      "metadata": {
        "id": "Hlsf0x5436Go"
      }
    },
    {
      "cell_type": "markdown",
      "source": [
        "##### 3. Will the gained insights help creating a positive business impact?\n",
        "Are there any insights that lead to negative growth? Justify with specific reason."
      ],
      "metadata": {
        "id": "mT9DMSJo4nBL"
      }
    },
    {
      "cell_type": "markdown",
      "source": [
        "Replicate success factors from top stores."
      ],
      "metadata": {
        "id": "c49ITxTc407N"
      }
    },
    {
      "cell_type": "markdown",
      "source": [
        "#### Chart - 14: Time-Series Decomposition"
      ],
      "metadata": {
        "id": "qBMux9mC6MCf"
      }
    },
    {
      "cell_type": "code",
      "execution_count": null,
      "metadata": {
        "id": "4ibE_w1f5fzl"
      },
      "outputs": [],
      "source": [
        "# Chart 13: Time-Series Decomposition of Total Sales\n",
        "import pandas as pd\n",
        "import matplotlib.pyplot as plt\n",
        "from statsmodels.tsa.seasonal import seasonal_decompose\n",
        "\n",
        "def create_chart_13(sales, features):\n",
        "    # Merge sales and features to include Date column\n",
        "    data_with_date = pd.merge(sales, features[['Store', 'Date', 'IsHoliday']], on=['Store', 'Date', 'IsHoliday'])\n",
        "    # Convert Date to datetime\n",
        "    data_with_date['Date'] = pd.to_datetime(data_with_date['Date'], dayfirst=True)\n",
        "    # Group by Date and sum Weekly_Sales\n",
        "    sales_ts = data_with_date.groupby(\"Date\")[\"Weekly_Sales\"].sum().asfreq(\"W-FRI\")\n",
        "    # Perform seasonal decomposition\n",
        "    decomposition = seasonal_decompose(sales_ts, model=\"additive\", period=52)\n",
        "\n",
        "    # Create custom subplots with adjusted layout\n",
        "    fig, (ax1, ax2, ax3, ax4) = plt.subplots(4, 1, figsize=(12, 10), sharex=True, gridspec_kw={'hspace': 0.3})\n",
        "\n",
        "    # Plot observed data\n",
        "    ax1.plot(decomposition.observed, color='blue')\n",
        "    ax1.set_ylabel('Observed (Weekly Sales)')\n",
        "    ax1.set_title('Chart 13: Time-Series Decomposition of Total Sales', fontsize=14, pad=15)\n",
        "\n",
        "    # Plot trend\n",
        "    ax2.plot(decomposition.trend, color='green')\n",
        "    ax2.set_ylabel('Trend')\n",
        "\n",
        "    # Plot seasonal component\n",
        "    ax3.plot(decomposition.seasonal, color='orange')\n",
        "    ax3.set_ylabel('Seasonal')\n",
        "\n",
        "    # Plot residual\n",
        "    ax4.plot(decomposition.resid, color='red')\n",
        "    ax4.set_ylabel('Residual')\n",
        "    ax4.set_xlabel('Date')\n",
        "\n",
        "    # Rotate and adjust x-axis labels for better visibility\n",
        "    plt.setp(ax4.get_xticklabels(), rotation=45, ha='right', fontsize=10)\n",
        "\n",
        "    # Adjust layout to prevent overlap\n",
        "    plt.tight_layout()\n",
        "    plt.subplots_adjust(top=0.9)  # Ensure title has space\n",
        "    plt.show()\n",
        "\n",
        "    print(\"Insights: Yearly seasonality with holiday peaks observed as of 06:14 PM IST, September 13, 2025.\")\n",
        "    print(\"Business Impact: Plan inventory for seasonal demand, especially during holiday periods.\")\n",
        "\n",
        "# Call the function with sales and features DataFrames\n",
        "create_chart_13(sales, features)"
      ]
    },
    {
      "cell_type": "markdown",
      "source": [
        "#### Chart - 15 - Pair Plot"
      ],
      "metadata": {
        "id": "T5CmagL3EC8N"
      }
    },
    {
      "cell_type": "code",
      "source": [
        "# Pair Plot visualization code\n",
        "sns.pairplot(data.sample(1000)[['Weekly_Sales', 'Size', 'CPI', 'Unemployment', 'Temperature']])\n",
        "plt.show()"
      ],
      "metadata": {
        "id": "-oLEiFgy-5Pf"
      },
      "execution_count": null,
      "outputs": []
    },
    {
      "cell_type": "markdown",
      "source": [
        "##### 1. Why did you pick the specific chart?"
      ],
      "metadata": {
        "id": "C74aWNz2AliB"
      }
    },
    {
      "cell_type": "markdown",
      "source": [
        "Pairplot for multivariate overview."
      ],
      "metadata": {
        "id": "KUUz-yFvrfaN"
      }
    },
    {
      "cell_type": "markdown",
      "source": [
        "##### 2. What is/are the insight(s) found from the chart?"
      ],
      "metadata": {
        "id": "2DejudWSA-a0"
      }
    },
    {
      "cell_type": "markdown",
      "source": [
        "Confirms correlations seen in heatmap."
      ],
      "metadata": {
        "id": "4yJhsuup5fzl"
      }
    },
    {
      "cell_type": "markdown",
      "source": [
        "#### Chart - 15: Store Cluster Visualization"
      ],
      "metadata": {
        "id": "pJMpKWeLltXs"
      }
    },
    {
      "cell_type": "code",
      "execution_count": null,
      "metadata": {
        "id": "W4yZoCHFDawp"
      },
      "outputs": [],
      "source": [
        "# Chart - 15 visualization code (cluster visualization done later after KMeans)"
      ]
    },
    {
      "cell_type": "markdown",
      "source": [
        "## ***5. Hypothesis Testing***"
      ],
      "metadata": {
        "id": "pASKb0qOza21"
      }
    },
    {
      "cell_type": "markdown",
      "source": [
        "### Based on your chart experiments, define three hypothetical statements from the dataset. In the next three questions, perform hypothesis testing to obtain final conclusion about the statements through your code and statistical testing."
      ],
      "metadata": {
        "id": "AtLJwRTfwKy_"
      }
    },
    {
      "cell_type": "markdown",
      "source": [
        "1. Holidays have higher sales.\n",
        "2. Larger stores have higher sales.\n",
        "3. Higher unemployment leads to lower sales."
      ],
      "metadata": {
        "id": "rOBRixAC5fzl"
      }
    },
    {
      "cell_type": "markdown",
      "source": [
        "### Hypothetical Statement - 1"
      ],
      "metadata": {
        "id": "DwVKOa0m5fzm"
      }
    },
    {
      "cell_type": "markdown",
      "source": [
        "#### 1. State Your research hypothesis as a null hypothesis and alternate hypothesis."
      ],
      "metadata": {
        "id": "NdHxtn5S5fzm"
      }
    },
    {
      "cell_type": "markdown",
      "source": [
        "Null: No difference in sales between holiday and non-holiday weeks.\n",
        "Alt: Higher sales on holidays."
      ],
      "metadata": {
        "id": "HI9ZP0laH0D-"
      }
    },
    {
      "cell_type": "markdown",
      "source": [
        "#### 2. Perform an appropriate statistical test."
      ],
      "metadata": {
        "id": "q7kxqh_r5fzm"
      }
    },
    {
      "cell_type": "code",
      "execution_count": null,
      "metadata": {
        "id": "W4yZoCHFDawq"
      },
      "outputs": [],
      "source": [
        "from scipy import stats\n",
        "holiday_sales = data[data['IsHoliday'] == 1]['Weekly_Sales']\n",
        "non_holiday_sales = data[data['IsHoliday'] == 0]['Weekly_Sales']\n",
        "t_stat, p_val = stats.ttest_ind(holiday_sales, non_holiday_sales, equal_var=False)\n",
        "print(f'P-value: {p_val}')\n",
        "if p_val < 0.05:\n",
        "    print('Reject Null: Holidays have higher sales.')\n",
        "else:\n",
        "    print('Fail to reject Null.')\n",
        "\n",
        "# Test: Welch’s t-test (unequal variances).\n",
        "# Why: Compare means of two groups with potentially unequal variances."
      ]
    },
    {
      "cell_type": "markdown",
      "source": [
        "##### Which statistical test have you done to obtain P-Value?"
      ],
      "metadata": {
        "id": "cncPJSyw5fzm"
      }
    },
    {
      "cell_type": "markdown",
      "source": [
        "T-test for two independent samples."
      ],
      "metadata": {
        "id": "yzhAe6K3Ui3C"
      }
    },
    {
      "cell_type": "markdown",
      "source": [
        "##### Why did you choose the specific statistical test?"
      ],
      "metadata": {
        "id": "2AlXRokC5fzm"
      }
    },
    {
      "cell_type": "markdown",
      "source": [
        "Compare means of two groups."
      ],
      "metadata": {
        "id": "BN9jAVHiopZz"
      }
    },
    {
      "cell_type": "markdown",
      "source": [
        "### Hypothetical Statement - 2"
      ],
      "metadata": {
        "id": "6voNYxlYitN8"
      }
    },
    {
      "cell_type": "markdown",
      "source": [
        "#### 1. State Your research hypothesis as a null hypothesis and alternate hypothesis."
      ],
      "metadata": {
        "id": "xq6G RNRz0Jp"
      }
    },
    {
      "cell_type": "markdown",
      "source": [
        "Null: No correlation between size and sales.\n",
        "Alt: Positive correlation."
      ],
      "metadata": {
        "id": "TMczIg5oo1VW"
      }
    },
    {
      "cell_type": "markdown",
      "source": [
        "#### 2. Perform an appropriate statistical test."
      ],
      "metadata": {
        "id": "7udGOnuAi1Aq"
      }
    },
    {
      "cell_type": "code",
      "execution_count": null,
      "metadata": {
        "id": "d6vk5ReV5fzn"
      },
      "outputs": [],
      "source": [
        "corr, p_val = stats.pearsonr(data['Size'], data['Weekly_Sales'])\n",
        "print(f'Correlation: {corr}, P-value: {p_val}')\n",
        "if p_val < 0.05 and corr > 0:\n",
        "    print('Reject Null: Larger stores have higher sales.')\n",
        "else:\n",
        "    print('Fail to reject Null.')\n",
        "\n",
        "# Test: Pearson correlation.\n",
        "# Why: Measures linear relationship between two numerical variables."
      ]
    },
    {
      "cell_type": "markdown",
      "source": [
        "##### Which statistical test have you done to obtain P-Value?"
      ],
      "metadata": {
        "id": "EiaSOYhi5fzn"
      }
    },
    {
      "cell_type": "markdown",
      "source": [
        "Pearson correlation."
      ],
      "metadata": {
        "id": "ytWJ8vrrlpD7"
      }
    },
    {
      "cell_type": "markdown",
      "source": [
        "##### Why did you choose the specific statistical test?"
      ],
      "metadata": {
        "id": "CtzBefgT5fzn"
      }
    },
    {
      "cell_type": "markdown",
      "source": [
        "For linear correlation between two numerical variables."
      ],
      "metadata": {
        "id": "hj4L8kWW5fzn"
      }
    },
    {
      "cell_type": "markdown",
      "source": [
        "### Hypothetical Statement - 3"
      ],
      "metadata": {
        "id": "jLnCbW6Yi_Ba"
      }
    },
    {
      "cell_type": "markdown",
      "source": [
        "#### 1. State Your research hypothesis as a null hypothesis and alternate hypothesis."
      ],
      "metadata": {
        "id": "Itu4wx6Lihct"
      }
    },
    {
      "cell_type": "markdown",
      "source": [
        "Null: No correlation between unemployment and sales.\n",
        "Alt: Negative correlation."
      ],
      "metadata": {
        "id": "rF2jigCQpKOD"
      }
    },
    {
      "cell_type": "markdown",
      "source": [
        "#### 2. Perform an appropriate statistical test."
      ],
      "metadata": {
        "id": "gJDyzEeuiwrJ"
      }
    },
    {
      "cell_type": "code",
      "execution_count": null,
      "metadata": {
        "id": "W4yZoCHFDawr"
      },
      "outputs": [],
      "source": [
        "corr, p_val = stats.pearsonr(data['Unemployment'], data['Weekly_Sales'])\n",
        "print(f'Correlation: {corr}, P-value: {p_val}')\n",
        "if p_val < 0.05 and corr < 0:\n",
        "    print('Reject Null: Higher unemployment lowers sales.')\n",
        "else:\n",
        "    print('Fail to reject Null.')\n",
        "\n",
        "# Test: Pearson correlation.\n",
        "# Why: Measures linear relationship."
      ]
    },
    {
      "cell_type": "markdown",
      "source": [
        "##### Which statistical test have you done to obtain P-Value?"
      ],
      "metadata": {
        "id": "4fSz8tGa5fzn"
      }
    },
    {
      "cell_type": "markdown",
      "source": [
        "Pearson correlation."
      ],
      "metadata": {
        "id": "qZ5J2qxy5fzn"
      }
    },
    {
      "cell_type": "markdown",
      "source": [
        "##### Why did you choose the specific statistical test?"
      ],
      "metadata": {
        "id": "ZaZhhxeC5fzn"
      }
    },
    {
      "cell_type": "markdown",
      "source": [
        "For linear correlation."
      ],
      "metadata": {
        "id": "1G4TqGRB5fzn"
      }
    },
    {
      "cell_type": "markdown",
      "source": [
        "## ***6. Feature Engineering & Data Pre-processing***"
      ],
      "metadata": {
        "id": "MSa1f5Uengr1"
      }
    },
    {
      "cell_type": "markdown",
      "source": [
        "### 1. Handling Missing Values"
      ],
      "metadata": {
        "id": "aHTsbXsjqDQU"
      }
    },
    {
      "cell_type": "code",
      "source": [
        "# Handling Missing Values & Missing Value Imputation\n",
        "# Already handled in wrangling: Markdowns to 0, CPI/Unemp ffill"
      ],
      "metadata": {
        "id": "3WaDM-m2rnyZ"
      },
      "execution_count": null,
      "outputs": []
    },
    {
      "cell_type": "markdown",
      "source": [
        "#### What all missing value imputation techniques have you used and why did you use those techniques?"
      ],
      "metadata": {
        "id": "wWASEDKj5fzo"
      }
    },
    {
      "cell_type": "markdown",
      "source": [
        "0 for markdowns (no promo), ffill for economic indicators (assume stability)."
      ],
      "metadata": {
        "id": "CiJXwch75fzo"
      }
    },
    {
      "cell_type": "markdown",
      "source": [
        "Handled in wrangling: Markdowns to 0, CPI/Unemployment ffill\n",
        "Justification: Markdowns NA likely means no promotion; economic indicators stable over short periods."
      ],
      "metadata": {
        "id": "3HFXkQvReS1U"
      }
    },
    {
      "cell_type": "markdown",
      "source": [
        "### 2. Handling Outliers"
      ],
      "metadata": {
        "id": "I_DZmV0N5fzo"
      }
    },
    {
      "cell_type": "code",
      "execution_count": null,
      "metadata": {
        "id": "jtc2qTP95fzo"
      },
      "outputs": [],
      "source": [
        "# Anomaly detection using Isolation Forest\n",
        "iso = IsolationForest(contamination=0.01, random_state=42)\n",
        "data['Anomaly'] = iso.fit_predict(data[['Weekly_Sales']])\n",
        "print(f\"Anomalies detected: {(data['Anomaly'] == -1).sum()}\")\n",
        "data = data[data['Anomaly'] == 1]\n",
        "data.drop('Anomaly', axis=1, inplace=True)\n",
        "\n",
        "# Why: Isolation Forest detects multivariate outliers; 1% contamination removes extreme sales."
      ]
    },
    {
      "cell_type": "markdown",
      "source": [
        "##### What all outlier treatment techniques have you used and why did you use those techniques?"
      ],
      "metadata": {
        "id": "5d6Xf29k5fzo"
      }
    },
    {
      "cell_type": "markdown",
      "source": [
        "Isolation Forest for multivariate outlier detection, as sales can have legitimate highs but we remove extreme anomalies."
      ],
      "metadata": {
        "id": "aK8Y7ABm3HFX"
      }
    },
    {
      "cell_type": "markdown",
      "source": [
        "### 3. Categorical Encoding"
      ],
      "metadata": {
        "id": "pEVgk3a65fzo"
      }
    },
    {
      "cell_type": "code",
      "source": [
        "# Encode your categorical columns\n",
        "# Already done: One-hot for Type"
      ],
      "metadata": {
        "id": "Nd_pEbEN5fzo"
      },
      "execution_count": null,
      "outputs": []
    },
    {
      "cell_type": "markdown",
      "source": [
        "#### What all categorical encoding techniques have you used & why have you used those techniques?"
      ],
      "metadata": {
        "id": "S3EsQxDP5fzo"
      }
    },
    {
      "cell_type": "markdown",
      "source": [
        "One-hot for Type as it's nominal with few categories."
      ],
      "metadata": {
        "id": "-BLvd-IZ5fzo"
      }
    },
    {
      "cell_type": "markdown",
      "source": [
        "### 4. Textual Data Preprocessing\n",
        "(It's mandatory for textual dataset i.e., NLP, Sentiment Analysis, Text Clustering etc.)"
      ],
      "metadata": {
        "id": "_aqsMR3A5fzo"
      }
    },
    {
      "cell_type": "markdown",
      "source": [
        "No textual data."
      ],
      "metadata": {
        "id": "jQ-xNjFD5fzo"
      }
    },
    {
      "cell_type": "markdown",
      "source": [
        "### 5. Feature Manipulation & Selection"
      ],
      "metadata": {
        "id": "cvd3q2On5fzo"
      }
    },
    {
      "cell_type": "markdown",
      "source": [
        "#### 1. Feature Manipulation"
      ],
      "metadata": {
        "id": "4DyiMw8O5fzo"
      }
    },
    {
      "cell_type": "code",
      "source": [
        "# Manipulate Features to minimize feature correlation and create new features\n",
        "# Already added Total_MarkDown"
      ],
      "metadata": {
        "id": "YLhe8UmaBCEE"
      },
      "execution_count": null,
      "outputs": []
    },
    {
      "cell_type": "markdown",
      "source": [
        "#### 2. Feature Selection"
      ],
      "metadata": {
        "id": "pEMng2IbBLp7"
      }
    },
    {
      "cell_type": "code",
      "execution_count": null,
      "metadata": {
        "id": "W4yZoCHFDaws"
      },
      "outputs": [],
      "source": [
        "# Features already created: Year, Month, Week, Total_MarkDown, Lag_Sales_1, Lag_Sales_2, Days_To_Holiday\n",
        "features_selected = ['Store', 'Dept', 'Temperature', 'Fuel_Price', 'CPI', 'Unemployment', 'IsHoliday', 'Size', 'Year', 'Month', 'Week', 'Total_MarkDown', 'Lag_Sales_1', 'Lag_Sales_2', 'Days_To_Holiday', 'Type_A', 'Type_B', 'Type_C']\n",
        "X = data[features_selected]\n",
        "y = data['Weekly_Sales']\n",
        "\n",
        "# Why: Selected based on correlations, domain knowledge to avoid overfitting."
      ]
    },
    {
      "cell_type": "markdown",
      "source": [
        "##### What all feature selection methods have you used  and why?"
      ],
      "metadata": {
        "id": "rAdphbQ9Bhjc"
      }
    },
    {
      "cell_type": "markdown",
      "source": [
        "Domain knowledge and correlation analysis to select relevant features."
      ],
      "metadata": {
        "id": "fGgaEstsBnaf"
      }
    },
    {
      "cell_type": "markdown",
      "source": [
        "##### Which all features you found important and why?"
      ],
      "metadata": {
        "id": "2YJpdQvCOzKd"
      }
    },
    {
      "cell_type": "markdown",
      "source": [
        "All listed as they influence sales based on correlations and business logic."
      ],
      "metadata": {
        "id": "WgoflOQ5O8Ot"
      }
    },
    {
      "cell_type": "markdown",
      "source": [
        "### 6. Data Transformation"
      ],
      "metadata": {
        "id": "TNVZ9zx19K6k"
      }
    },
    {
      "cell_type": "markdown",
      "source": [
        "#### Do you think that your data needs to be transformed? If yes, which transformation have you used. Explain Why?"
      ],
      "metadata": {
        "id": "nqoHp30x9hH9"
      }
    },
    {
      "cell_type": "markdown",
      "source": [
        "Yes, scaling for clustering and regression."
      ],
      "metadata": {
        "id": "r1idXJT-rOm5"
      }
    },
    {
      "cell_type": "markdown",
      "source": [
        "### 7. Data Scaling"
      ],
      "metadata": {
        "id": "DSBAceXlBEer"
      }
    },
    {
      "cell_type": "code",
      "execution_count": null,
      "metadata": {
        "id": "W4yZoCHFDawt"
      },
      "outputs": [],
      "source": [
        "# Scaling for ML models\n",
        "scaler = StandardScaler()\n",
        "X_scaled = scaler.fit_transform(X)\n",
        "\n",
        "# Why: Normalize features with different scales for clustering and regression."
      ]
    },
    {
      "cell_type": "markdown",
      "source": [
        "##### Which method have you used to scale you data and why?"
      ],
      "metadata": {
        "id": "gBfpnigc5fzp"
      }
    },
    {
      "cell_type": "markdown",
      "source": [
        "StandardScaler for normalization, as features have different scales."
      ],
      "metadata": {
        "id": "O0z2ZCJIPUOd"
      }
    },
    {
      "cell_type": "markdown",
      "source": [
        "### 8. Dimesionality Reduction"
      ],
      "metadata": {
        "id": "P1XJ9OREExlT"
      }
    },
    {
      "cell_type": "markdown",
      "source": [
        "##### Do you think that dimensionality reduction is needed? Explain Why?"
      ],
      "metadata": {
        "id": "VFOzZv6IFROw"
      }
    },
    {
      "cell_type": "markdown",
      "source": [
        "Not necessary, few features."
      ],
      "metadata": {
        "id": "GeKDIv7pFgcC"
      }
    },
    {
      "cell_type": "code",
      "source": [
        "# DImensionality Reduction (If needed)\n",
        "# Skipped"
      ],
      "metadata": {
        "id": "kQfvxBBHDvCa"
      },
      "execution_count": null,
      "outputs": []
    },
    {
      "cell_type": "markdown",
      "source": [
        "##### Which dimensionality reduction technique have you used and why? (If dimensionality reduction done on dataset.)"
      ],
      "metadata": {
        "id": "1ik_cY6k5fzp"
      }
    },
    {
      "cell_type": "markdown",
      "source": [
        "None."
      ],
      "metadata": {
        "id": "ZKr75IDuEM7t"
      }
    },
    {
      "cell_type": "markdown",
      "source": [
        "### 9. Data Splitting"
      ],
      "metadata": {
        "id": "BhH2vgX9EjGr"
      }
    },
    {
      "cell_type": "code",
      "execution_count": null,
      "metadata": {
        "id": "Fp70HtvD5fzp"
      },
      "outputs": [],
      "source": [
        "# Split data\n",
        "X_train, X_test, y_train, y_test = train_test_split(X_scaled, y, test_size=0.2, random_state=42)\n",
        "\n",
        "# Why: 80/20 split, standard for large datasets to balance training and evaluation."
      ]
    },
    {
      "cell_type": "markdown",
      "source": [
        "##### What data splitting ratio have you used and why?"
      ],
      "metadata": {
        "id": "qjKvONjwE8ra"
      }
    },
    {
      "cell_type": "markdown",
      "source": [
        "80/20, standard for large datasets."
      ],
      "metadata": {
        "id": "Y2lJ8cobFDb_"
      }
    },
    {
      "cell_type": "markdown",
      "source": [
        "### 10. Handling Imbalanced Dataset"
      ],
      "metadata": {
        "id": "oR3SciAs5fzq"
      }
    },
    {
      "cell_type": "markdown",
      "source": [
        "##### Do you think the dataset is imbalanced? Explain Why."
      ],
      "metadata": {
        "id": "Sg-cS7xZ5fzq"
      }
    },
    {
      "cell_type": "markdown",
      "source": [
        "No, regression problem, not classification."
      ],
      "metadata": {
        "id": "iffyFZnr5fzq"
      }
    },
    {
      "cell_type": "code",
      "source": [
        "# Handling Imbalanced Dataset (If needed)\n",
        "# Not needed"
      ],
      "metadata": {
        "id": "nQsRhhZLFiDs"
      },
      "execution_count": null,
      "outputs": []
    },
    {
      "cell_type": "markdown",
      "source": [
        "##### What technique did you use to handle the imbalance dataset and why? (If needed to be balanced)"
      ],
      "metadata": {
        "id": "TIqpNgepFxVj"
      }
    },
    {
      "cell_type": "markdown",
      "source": [
        "N/A"
      ],
      "metadata": {
        "id": "qbet1HwdGDTz"
      }
    },
    {
      "cell_type": "markdown",
      "source": [
        "## ***7. ML Model Implementation***"
      ],
      "metadata": {
        "id": "VfCC591jGiD4"
      }
    },
    {
      "cell_type": "markdown",
      "source": [
        "### ML Model - 1 : Random Forest for Forecasting"
      ],
      "metadata": {
        "id": "OB4l2ZhMeS1U"
      }
    },
    {
      "cell_type": "code",
      "execution_count": null,
      "metadata": {
        "id": "W4yZoCHFDawu"
      },
      "outputs": [],
      "source": [
        "# Random Forest\n",
        "rf = RandomForestRegressor(n_estimators=100, random_state=42)\n",
        "\n",
        "# Fit the Algorithm\n",
        "rf.fit(X_train, y_train)\n",
        "\n",
        "# Predict on the model\n",
        "y_pred_rf = rf.predict(X_test)\n",
        "\n",
        "# Evaluation\n",
        "rmse_rf = np.sqrt(mean_squared_error(y_test, y_pred_rf))\n",
        "mae_rf = mean_absolute_error(y_test, y_pred_rf)\n",
        "r2_rf = r2_score(y_test, y_pred_rf)\n",
        "print(f'Random Forest - RMSE: {rmse_rf}, MAE: {mae_rf}, R²: {r2_rf}')\n",
        "\n",
        "# Explanation: Random Forest handles non-linear relationships, robust to feature interactions.\n",
        "# Metrics: RMSE for error magnitude, MAE for average error, R² for explained variance."
      ]
    },
    {
      "cell_type": "markdown",
      "source": [
        "#### 1. Explain the ML Model used and it's performance using Evaluation metric Score Chart."
      ],
      "metadata": {
        "id": "ArJBuiUVfxKd"
      }
    },
    {
      "cell_type": "code",
      "source": [
        "# Visualizing evaluation Metric Score chart\n",
        "# Visualizing evaluation Metric Score chart for Random Forest\n",
        "import matplotlib.pyplot as plt\n",
        "import numpy as np\n",
        "\n",
        "# Ensure these metrics are calculated from the previous code\n",
        "rmse_rf = np.sqrt(mean_squared_error(y_test, y_pred_rf))\n",
        "mae_rf = mean_absolute_error(y_test, y_pred_rf)\n",
        "r2_rf = r2_score(y_test, y_pred_rf)\n",
        "\n",
        "metrics = ['RMSE', 'MAE', 'R²']\n",
        "scores = [rmse_rf, mae_rf, r2_rf]\n",
        "\n",
        "x = np.arange(len(metrics))\n",
        "width = 0.35\n",
        "\n",
        "fig, ax = plt.subplots(figsize=(10, 6))\n",
        "bars = ax.bar(x, scores, width, label='Random Forest', color='skyblue')\n",
        "\n",
        "ax.set_ylabel('Score')\n",
        "ax.set_title('Evaluation Metric Scores for Random Forest Model')\n",
        "ax.set_xticks(x)\n",
        "ax.set_xticklabels(metrics)\n",
        "ax.legend()\n",
        "\n",
        "# Add value labels on top of bars\n",
        "for bar in bars:\n",
        "    height = bar.get_height()\n",
        "    ax.text(bar.get_x() + bar.get_width()/2., height,\n",
        "            f'{height:.2f}',\n",
        "            ha='center', va='bottom' if height >= 0 else 'top')\n",
        "\n",
        "plt.show()\n",
        "\n",
        "# Print metrics for reference\n",
        "print(f'Random Forest - RMSE: {rmse_rf:.2f}, MAE: {mae_rf:.2f}, R²: {r2_rf:.2f}')"
      ],
      "metadata": {
        "id": "rqD5ZohzfxKe"
      },
      "execution_count": null,
      "outputs": []
    },
    {
      "cell_type": "markdown",
      "source": [
        "Random Forest for regression, good for non-linear relationships. RMSE indicates average prediction error."
      ],
      "metadata": {
        "id": "4qY1EAkEfxKe"
      }
    },
    {
      "cell_type": "markdown",
      "source": [
        "#### 2. Cross- Validation & Hyperparameter Tuning"
      ],
      "metadata": {
        "id": "Dy61ujd6fxKe"
      }
    },
    {
      "cell_type": "code",
      "execution_count": null,
      "metadata": {
        "id": "N15dOf2N5fzr"
      },
      "outputs": [],
      "source": [
        "# GridSearchCV\n",
        "param_grid = {'n_estimators': [50, 100], 'max_depth': [10, 20]}\n",
        "grid = GridSearchCV(RandomForestRegressor(random_state=42), param_grid, cv=3, scoring='neg_mean_squared_error')\n",
        "grid.fit(X_train[::10], y_train[::10])  # Subsample for speed\n",
        "best_rf = grid.best_estimator_\n",
        "y_pred_rf_tuned = best_rf.predict(X_test)\n",
        "\n",
        "# Evaluation\n",
        "rmse_rf_tuned = np.sqrt(mean_squared_error(y_test, y_pred_rf_tuned))\n",
        "mae_rf_tuned = mean_absolute_error(y_test, y_pred_rf_tuned)\n",
        "r2_rf_tuned = r2_score(y_test, y_pred_rf_tuned)\n",
        "print(f'Tuned Random Forest - RMSE: {rmse_rf_tuned}, MAE: {mae_rf_tuned}, R²: {r2_rf_tuned}')\n",
        "\n",
        "# Why GridSearchCV: Exhaustive search over small parameter grid.\n",
        "# Improvement: Compare RMSE/MAE/R²; tuning may reduce errors."
      ]
    },
    {
      "cell_type": "markdown",
      "source": [
        "##### Which hyperparameter optimization technique have you used and why?"
      ],
      "metadata": {
        "id": "negyGRa7fxKf"
      }
    },
    {
      "cell_type": "markdown",
      "source": [
        "GridSearchCV for exhaustive search on small grid."
      ],
      "metadata": {
        "id": "TfvqoZmBfxKf"
      }
    },
    {
      "cell_type": "markdown",
      "source": [
        "##### Have you seen any improvement? Note down the improvement with updates Evaluation metric Score Chart."
      ],
      "metadata": {
        "id": "OaLui8CcfxKf"
      }
    },
    {
      "cell_type": "markdown",
      "source": [
        "Possibly lower RMSE; compare."
      ],
      "metadata": {
        "id": "Zj0qkqN_fxKg"
      }
    },
    {
      "cell_type": "markdown",
      "source": [
        "#### Feature Importance"
      ],
      "metadata": {
        "id": "dJ2tPlVmpsJ0"
      }
    },
    {
      "cell_type": "code",
      "execution_count": null,
      "metadata": {
        "id": "W4yZoCHFDawv"
      },
      "outputs": [],
      "source": [
        "# Feature importance\n",
        "importances = pd.Series(best_rf.feature_importances_, index=features_selected).sort_values(ascending=False)\n",
        "plt.figure(figsize=(10,6))\n",
        "sns.barplot(x=importances, y=importances.index, palette='viridis')\n",
        "plt.title('Feature Importance (Random Forest)')\n",
        "plt.show()\n",
        "\n",
        "# Insights: Dept, Store, and lagged sales are top predictors."
      ]
    },
    {
      "cell_type": "markdown",
      "source": [
        "#### Partial Dependence Plots for External Factors"
      ],
      "metadata": {
        "id": "Fze-IPXLpx6K"
      }
    },
    {
      "cell_type": "code",
      "execution_count": null,
      "metadata": {
        "id": "Sj2ZQMk65fzr"
      },
      "outputs": [],
      "source": [
        "# Partial dependence for CPI, Unemployment, Fuel_Price\n",
        "fig, ax = plt.subplots(1, 3, figsize=(18,5))\n",
        "for i, feature in enumerate(['CPI', 'Unemployment', 'Fuel_Price']):\n",
        "    idx = features_selected.index(feature)\n",
        "    pdp = partial_dependence(best_rf, X_scaled, features=[idx], grid_resolution=20)\n",
        "    ax[i].plot(pdp['grid_values'][0], pdp['average'][0], color='blue')\n",
        "    ax[i].set_title(f'PDP for {feature}')\n",
        "    ax[i].set_xlabel(feature)\n",
        "    ax[i].set_ylabel('Partial Dependence')\n",
        "plt.tight_layout()\n",
        "plt.show()\n",
        "\n",
        "# Insights: High CPI/Unemployment reduces sales; Fuel_Price has minimal impact.\n",
        "# Business Impact: Adjust pricing during high CPI/unemployment periods."
      ]
    },
    {
      "cell_type": "markdown",
      "source": [
        "### ML Model - 2 : KMeans for Segmentation"
      ],
      "metadata": {
        "id": "0ZlPtLue5fzr"
      }
    },
    {
      "cell_type": "code",
      "execution_count": null,
      "metadata": {
        "id": "W4yZoCHFDaww"
      },
      "outputs": [],
      "source": [
        "# Store-level segmentation\n",
        "store_data = data.groupby('Store').agg({'Weekly_Sales': 'mean', 'Size': 'first', 'Type_A': 'first', 'Type_B': 'first', 'Type_C': 'first'})\n",
        "scaler_seg = StandardScaler()\n",
        "store_scaled = scaler_seg.fit_transform(store_data)\n",
        "kmeans = KMeans(n_clusters=3, random_state=42)\n",
        "store_data['Cluster'] = kmeans.fit_predict(store_scaled)\n",
        "\n",
        "# Evaluation\n",
        "sil_score = silhouette_score(store_scaled, store_data['Cluster'])\n",
        "db_score = davies_bouldin_score(store_scaled, store_data['Cluster'])\n",
        "print(f'KMeans - Silhouette Score: {sil_score}, Davies-Bouldin Score: {db_score}')\n",
        "\n",
        "# Visualization\n",
        "plt.figure(figsize=(10,6))\n",
        "sns.scatterplot(x=store_data['Size'], y=store_data['Weekly_Sales'], hue=store_data['Cluster'], palette='Set1', size=store_data['Cluster'])\n",
        "plt.title('Store Clusters by Size and Sales')\n",
        "plt.xlabel('Store Size')\n",
        "plt.ylabel('Average Weekly Sales')\n",
        "plt.show()\n",
        "\n",
        "# Explanation: KMeans groups stores by sales and size.\n",
        "# Metrics: Silhouette for cluster cohesion, Davies-Bouldin for separation.\n",
        "# Insights: Clusters likely represent large/high-sales (Type A), medium (Type B), small/low-sales (Type C).\n",
        "# Business Impact: Tailor marketing/inventory per cluster."
      ]
    },
    {
      "cell_type": "markdown",
      "source": [
        "#### 2. Cross- Validation & Hyperparameter Tuning"
      ],
      "metadata": {
        "id": "sQxtDsF7phqQ"
      }
    },
    {
      "cell_type": "markdown",
      "source": [
        "#### 1. Explain the ML Model used and it's performance using Evaluation metric Score Chart."
      ],
      "metadata": {
        "id": "7AN1z2sKpx6M"
      }
    },
    {
      "cell_type": "markdown",
      "source": [
        "KMeans for clustering stores. Silhouette measures cluster quality."
      ],
      "metadata": {
        "id": "9PIHJqyupx6M"
      }
    },
    {
      "cell_type": "code",
      "source": [
        "# Cross- Validation & Hyperparameter Tuning for KMeans\n",
        "from sklearn.metrics import silhouette_score\n",
        "from sklearn.cluster import KMeans\n",
        "\n",
        "# Use elbow method or silhouette score for n_clusters\n",
        "# Trying a range of clusters and evaluating with silhouette score\n",
        "silhouette_scores = []\n",
        "k_range = range(2, 11) # Test from 2 to 10 clusters\n",
        "\n",
        "for k in k_range:\n",
        "    kmeans = KMeans(n_clusters=k, random_state=42, n_init=10) # Add n_init explicitly\n",
        "    kmeans.fit(store_scaled)\n",
        "    score = silhouette_score(store_scaled, kmeans.labels_)\n",
        "    silhouette_scores.append(score)\n",
        "\n",
        "# Plot silhouette scores\n",
        "plt.figure(figsize=(8, 4))\n",
        "plt.plot(k_range, silhouette_scores, marker='o')\n",
        "plt.xlabel('Number of Clusters (k)')\n",
        "plt.ylabel('Silhouette Score')\n",
        "plt.title('Silhouette Score vs. Number of Clusters')\n",
        "plt.xticks(k_range)\n",
        "plt.grid(True)\n",
        "plt.show()\n",
        "\n",
        "# Print best silhouette score and corresponding k\n",
        "best_k = k_range[silhouette_scores.index(max(silhouette_scores))]\n",
        "print(f\"Best Silhouette Score: {max(silhouette_scores):.4f}\")\n",
        "print(f\"Optimal number of clusters (based on Silhouette Score): {best_k}\")\n",
        "\n",
        "# Fit KMeans with the optimal number of clusters\n",
        "best_kmeans = KMeans(n_clusters=best_k, random_state=42, n_init=10)\n",
        "store_data['Cluster'] = best_kmeans.fit_predict(store_scaled)\n",
        "\n",
        "# Print evaluation metrics for the best model\n",
        "sil_score_best = silhouette_score(store_scaled, store_data['Cluster'])\n",
        "db_score_best = davies_bouldin_score(store_scaled, store_data['Cluster'])\n",
        "print(f'Best KMeans - Silhouette Score: {sil_score_best:.4f}, Davies-Bouldin Score: {db_score_best:.4f}')\n",
        "\n",
        "# Update the cluster visualization with the best model\n",
        "plt.figure(figsize=(10,6))\n",
        "sns.scatterplot(x=store_data['Size'], y=store_data['Weekly_Sales'], hue=store_data['Cluster'], palette='Set1', size=store_data['Cluster'])\n",
        "plt.title(f'Store Clusters by Size and Sales (Optimal k={best_k})')\n",
        "plt.xlabel('Store Size')\n",
        "plt.ylabel('Average Weekly Sales')\n",
        "plt.show()\n",
        "\n",
        "# Why: Elbow method and Silhouette score help determine optimal number of clusters.\n",
        "# Improvement: Finding the optimal k improves clustering quality and business insights.\n"
      ],
      "metadata": {
        "id": "74yRdG6UpsJ3"
      },
      "execution_count": null,
      "outputs": []
    },
    {
      "cell_type": "markdown",
      "source": [
        "##### Which hyperparameter optimization technique have you used and why?"
      ],
      "metadata": {
        "id": "bmKjuQ-FpsJ3"
      }
    },
    {
      "cell_type": "markdown",
      "source": [
        "I used the Silhouette Score to determine the optimal number of clusters (k) for the KMeans model."
      ],
      "metadata": {
        "id": "NcXdJO7RRqyN"
      }
    },
    {
      "cell_type": "markdown",
      "source": [
        "##### Have you seen any improvement? Note down the improvement with updates Evaluation metric Score Chart."
      ],
      "metadata": {
        "id": "PTXueRCb5fzr"
      }
    },
    {
      "cell_type": "markdown",
      "source": [
        "Yes, there was an improvement in the clustering quality after finding the optimal number of clusters using the Silhouette Score."
      ],
      "metadata": {
        "id": "Zv3jRXbVp1ck"
      }
    },
    {
      "cell_type": "markdown",
      "source": [
        "#### 3. Explain each evaluation metric's indication towards business and the business impact pf the ML model used."
      ],
      "metadata": {
        "id": "8S8ZjBXE5fzr"
      }
    },
    {
      "cell_type": "markdown",
      "source": [
        "Evaluation Metrics and Business Indications:\n",
        "\n",
        "Silhouette Score:\n",
        "Indication: The Silhouette Score measures how well each data point (in this case, a store) fits into its assigned cluster compared to other clusters. A higher score (closer to 1) means that the stores within a cluster are quite similar to each other and quite different from stores in other clusters.\n",
        "Business Impact: A high Silhouette Score indicates that your store segments are well-defined and distinct. This is crucial for targeted business strategies. If your clusters are well-separated, it means that the stores within each cluster likely share similar characteristics (like sales patterns, size, or customer demographics inferred from sales), allowing you to develop more effective and tailored marketing campaigns, inventory strategies, and operational approaches for each specific segment. Poorly defined clusters (low Silhouette Score) would mean your targeted strategies might not be as effective because the stores within a segment are too diverse.\n",
        "\n",
        "\n",
        "Davies-Bouldin Score:\n",
        "Indication: The Davies-Bouldin Score measures the average similarity ratio of each cluster with its most similar cluster. A lower score (closer to 0) indicates better separation between clusters and higher similarity within clusters.\n",
        "Business Impact: A low Davies-Bouldin Score reinforces the findings from the Silhouette Score, indicating that your store clusters are well-separated. This again supports the effectiveness of implementing distinct business strategies for each cluster. If the score is high, it suggests that some clusters are quite similar to each other, which might mean your chosen number of clusters or features aren't creating truly distinct segments.\n",
        "Business Impact of the KMeans Model:\n",
        "\n",
        "The KMeans model, by segmenting stores based on relevant features (like average weekly sales and size), provides significant business impact:\n",
        "\n",
        "Targeted Strategies: Instead of a one-size-fits-all approach, the business can develop specific strategies for each store cluster. For example:\n",
        "Inventory Management: High-sales clusters might require higher stock levels and more frequent deliveries. Lower-sales clusters might need more cautious inventory planning.\n",
        "Marketing and Promotions: Different clusters might respond better to different types of promotions or marketing messages. You can tailor campaigns to the specific characteristics of each segment.\n",
        "Operational Efficiency: Understanding the different needs of each store type can help optimize staffing, store layout, and other operational aspects.\n",
        "Resource Allocation: The model helps in allocating resources more effectively. You can identify which store types or segments are the most profitable or have the highest growth potential and invest accordingly.\n",
        "Performance Benchmarking: Stores within the same cluster can be benchmarked against each other, providing a more relevant comparison than comparing stores across different types or sizes.\n",
        "Customer Understanding (Inferred): While the clustering is on stores, the characteristics of the stores in each cluster can provide insights into the types of customers they serve and their purchasing behaviors, enabling more personalized marketing efforts.\n",
        "In summary, the evaluation metrics for KMeans help validate that the created store segments are meaningful and distinct, which directly translates to the business's ability to implement more effective, targeted, and resource-efficient strategies for optimizing store performance and potentially enhancing the customer experience."
      ],
      "metadata": {
        "id": "S3U9GQR25fzr"
      }
    },
    {
      "cell_type": "markdown",
      "source": [
        "### ML Model - 3 : Isolation Forest for Anomaly (Already used)"
      ],
      "metadata": {
        "id": "_tm5lTJp5fzr"
      }
    },
    {
      "cell_type": "code",
      "source": [
        "# Already implemented in preprocessing"
      ],
      "metadata": {
        "id": "mHDegsdc5fzs"
      },
      "execution_count": null,
      "outputs": []
    },
    {
      "cell_type": "markdown",
      "source": [
        "#### 1. Explain the ML Model used and it's performance using Evaluation metric Score Chart."
      ],
      "metadata": {
        "id": "P2V7I5OW5fzs"
      }
    },
    {
      "cell_type": "code",
      "source": [
        "# No direct metric, but detected 1% anomalies"
      ],
      "metadata": {
        "id": "13H_ZU1h5fzs"
      },
      "execution_count": null,
      "outputs": []
    },
    {
      "cell_type": "markdown",
      "source": [
        "Isolation Forest for anomalies in sales."
      ],
      "metadata": {
        "id": "rKYijJS25fzs"
      }
    },
    {
      "cell_type": "markdown",
      "source": [
        "#### 2. Cross- Validation & Hyperparameter Tuning"
      ],
      "metadata": {
        "id": "8zIad0yx5fzs"
      }
    },
    {
      "cell_type": "code",
      "source": [
        "# Skipped"
      ],
      "metadata": {
        "id": "Dy61ujd6phqQ"
      },
      "execution_count": null,
      "outputs": []
    },
    {
      "cell_type": "markdown",
      "source": [
        "##### Which hyperparameter optimization technique have you used and why?"
      ],
      "metadata": {
        "id": "Gg4jWJP5phqR"
      }
    },
    {
      "cell_type": "markdown",
      "source": [
        "N/A"
      ],
      "metadata": {
        "id": "lQMffxkwphqR"
      }
    },
    {
      "cell_type": "markdown",
      "source": [
        "##### Have you seen any improvement? Note down the improvement with updates Evaluation metric Score Chart."
      ],
      "metadata": {
        "id": "Z-hykwinphqR"
      }
    },
    {
      "cell_type": "markdown",
      "source": [
        "Cleaner data for models."
      ],
      "metadata": {
        "id": "MzVzZC6op1ck"
      }
    },
    {
      "cell_type": "markdown",
      "source": [
        "### ML Model - 3: ARIMA for Time-Series Forecasting"
      ],
      "metadata": {
        "id": "h_CCil-SKHpo"
      }
    },
    {
      "cell_type": "code",
      "execution_count": null,
      "metadata": {
        "id": "Q4j_fZtQ5fzs"
      },
      "outputs": [],
      "source": [
        "# ARIMA for total sales forecasting\n",
        "sales_ts = data.groupby('Date')['Weekly_Sales'].sum().asfreq('W-FRI')\n",
        "train_ts, test_ts = train_test_split(sales_ts, test_size=0.2, shuffle=False)\n",
        "arima = ARIMA(train_ts, order=(5,1,0), seasonal_order=(1,1,1,52))\n",
        "arima_fit = arima.fit()\n",
        "y_pred_arima = arima_fit.forecast(len(test_ts))\n",
        "\n",
        "# Evaluation\n",
        "rmse_arima = np.sqrt(mean_squared_error(test_ts, y_pred_arima))\n",
        "mae_arima = mean_absolute_error(test_ts, y_pred_arima)\n",
        "print(f'ARIMA - RMSE: {rmse_arima}, MAE: {mae_arima}')\n",
        "\n",
        "# Visualization\n",
        "plt.figure(figsize=(12,6))\n",
        "plt.plot(train_ts.index, train_ts, label='Train')\n",
        "plt.plot(test_ts.index, test_ts, label='Test')\n",
        "plt.plot(test_ts.index, y_pred_arima, label='ARIMA Forecast')\n",
        "plt.title('ARIMA Forecast for Total Sales')\n",
        "plt.legend()\n",
        "plt.show()\n",
        "\n",
        "# Explanation: ARIMA captures seasonality and trends in total sales.\n",
        "# Metrics: RMSE/MAE for forecast accuracy.\n",
        "# Business Impact: Useful for aggregate inventory planning."
      ]
    },
    {
      "cell_type": "markdown",
      "source": [
        "### ML Model - 4: Market Basket Analysis"
      ],
      "metadata": {
        "id": "cBFFvTBNJzUa"
      }
    },
    {
      "cell_type": "code",
      "execution_count": null,
      "metadata": {
        "id": "W4yZoCHFDawx"
      },
      "outputs": [],
      "source": [
        "# Simulate market basket by department co-sales\n",
        "dept_sales = data.pivot_table(values='Weekly_Sales', index=['Store', 'Date'], columns='Dept', aggfunc='sum').fillna(0)\n",
        "dept_corr = dept_sales.corr()\n",
        "\n",
        "# Visualize top correlations\n",
        "plt.figure(figsize=(12,8))\n",
        "sns.heatmap(dept_corr.where(np.triu(np.ones(dept_corr.shape), k=1).astype(bool)), cmap='coolwarm', annot=False)\n",
        "plt.title('Department Sales Correlation (Market Basket)')\n",
        "plt.show()\n",
        "\n",
        "# Insights: High correlations indicate frequently co-purchased departments.\n",
        "# Business Impact: Bundle high-correlation departments in promotions."
      ]
    },
    {
      "cell_type": "markdown",
      "source": [
        "### 1. Which Evaluation metrics did you consider for a positive business impact and why?"
      ],
      "metadata": {
        "id": "lC9kJ3hc5fzs"
      }
    },
    {
      "cell_type": "markdown",
      "source": [
        "RMSE for forecasting (error in sales prediction), Silhouette for segmentation (better targeting)."
      ],
      "metadata": {
        "id": "jHVz9hHDKFms"
      }
    },
    {
      "cell_type": "markdown",
      "source": [
        "### 2. Which ML model did you choose from the above created models as your final prediction model and why?"
      ],
      "metadata": {
        "id": "PbZ9W5ai5fzs"
      }
    },
    {
      "cell_type": "markdown",
      "source": [
        "Random Forest for forecasting due to handling non-linearity and feature importance."
      ],
      "metadata": {
        "id": "6ksF5Q1LKTVm"
      }
    },
    {
      "cell_type": "markdown",
      "source": [
        "### 3. Explain the model which you have used and the feature importance using any model explainability tool?"
      ],
      "metadata": {
        "id": "HvGl1hHyA_VK"
      }
    },
    {
      "cell_type": "code",
      "source": [
        "# Feature importance from RF\n",
        "importances = pd.Series(rf.feature_importances_, index=features_selected).sort_values(ascending=False)\n",
        "print(importances)"
      ],
      "metadata": {
        "id": "YnvVTiIxBL-C"
      },
      "execution_count": null,
      "outputs": []
    },
    {
      "cell_type": "markdown",
      "source": [
        "Dept and Store most important, then Size, etc."
      ],
      "metadata": {
        "id": "EyNgTHvd2WFk"
      }
    },
    {
      "cell_type": "markdown",
      "source": [
        "## ***8.*** ***Future Work (Optional)***"
      ],
      "metadata": {
        "id": "KH5McJBi2d8v"
      }
    },
    {
      "cell_type": "markdown",
      "source": [
        "### 1. Save the best performing ml model in a pickle file or joblib file format for deployment process.\n"
      ],
      "metadata": {
        "id": "bQIANRl32f4J"
      }
    },
    {
      "cell_type": "code",
      "source": [
        "# Save the File\n",
        "joblib.dump(best_rf, 'retail_forecast_model.pkl')"
      ],
      "metadata": {
        "id": "y7eV43a_2nQC"
      },
      "execution_count": null,
      "outputs": []
    },
    {
      "cell_type": "markdown",
      "source": [
        "### 2. Again Load the saved model file and try to predict unseen data for a sanity check.\n"
      ],
      "metadata": {
        "id": "-Kee-DAl2viO"
      }
    },
    {
      "cell_type": "code",
      "source": [
        "# Load the File and predict unseen data.\n",
        "loaded_model = joblib.load('retail_forecast_model.pkl')\n",
        "pred = loaded_model.predict(X_test[0:1])\n",
        "print(pred)"
      ],
      "metadata": {
        "id": "DxWETnoa4NMm"
      },
      "execution_count": null,
      "outputs": []
    },
    {
      "cell_type": "markdown",
      "source": [
        "### ***Congrats! Your model is successfully created and ready for deployment on a live server for a real user interaction !!!***"
      ],
      "metadata": {
        "id": "gCX9965dhzqZ"
      }
    },
    {
      "cell_type": "markdown",
      "source": [
        "## ***8. Business Strategies and Real-World Application***"
      ],
      "metadata": {
        "id": "VykTm3Q-5fzt"
      }
    },
    {
      "cell_type": "markdown",
      "source": [
        "**Strategic Recommendations**:\n",
        "1. **Inventory Management**:\n",
        "   - Increase stock for high-sales departments (Chart 7) and during December (Chart 5).\n",
        "   - Use ARIMA forecasts for aggregate inventory planning.\n",
        "2. **Marketing**:\n",
        "   - Target promotions for holiday weeks (Chart 2) and pre-holiday periods (Days_To_Holiday).\n",
        "   - Bundle departments with high co-sales correlations (Market Basket).\n",
        "   - Tailor campaigns per store cluster: premium products for Cluster 1 (large stores), budget for Cluster 3 (small).\n",
        "3. **Store Optimization**:\n",
        "   - Expand Type A stores or replicate their strategies (Chart 4, 6).\n",
        "   - Monitor CPI/unemployment (Charts 11, 12); offer discounts during high economic stress.\n",
        "\n",
        "**Feasibility**:\n",
        "- Inventory adjustments align with existing supply chain systems.\n",
        "- Marketing campaigns can leverage existing CRM tools.\n",
        "- Store expansion requires capital but is justified by higher sales in Type A."
      ],
      "metadata": {
        "id": "cQwghaIY5fzt"
      }
    },
    {
      "cell_type": "markdown",
      "source": [
        "# **Conclusion**"
      ],
      "metadata": {
        "id": "Fjb1IsQkh3yE"
      }
    },
    {
      "cell_type": "markdown",
      "source": [
        "The integrated analysis provides actionable insights for retail optimization: forecast demand accurately with RF, segment stores for targeted strategies, detect anomalies to clean data or investigate issues. Business impact: better inventory, personalized marketing, increased sales."
      ],
      "metadata": {
        "id": "Qvh8u9VO5fzt"
      }
    },
    {
      "cell_type": "markdown",
      "source": [
        "This project delivers a comprehensive retail analytics solution:\n",
        "- **Data Insights**: Sales peak during holidays, larger stores (Type A) outperform, and high unemployment/CPI reduce sales.\n",
        "- **ML Models**: Random Forest achieves low RMSE for department-level forecasting; ARIMA complements for aggregate trends; KMeans segments stores effectively.\n",
        "- **Market Basket**: Department correlations guide bundling strategies.\n",
        "- **Business Impact**: Strategies for inventory, marketing, and store optimization are data-driven and feasible, promising increased sales and efficiency.\n",
        "\n",
        "The deployed model enables real-time forecasting, supporting dynamic retail decisions."
      ],
      "metadata": {
        "id": "tovhNlbK5fzt"
      }
    },
    {
      "cell_type": "markdown",
      "source": [
        "### ***Hurrah! You have successfully completed your Machine Learning Capstone Project !!!***"
      ],
      "metadata": {
        "id": "7rNRn-sr5fzt"
      }
    },
    {
      "cell_type": "markdown",
      "source": [
        "1. **Data Cleaning**: Added negative sales check to ensure data validity.\n",
        "2. **Feature Engineering**: Included lagged sales and holiday proximity to capture temporal patterns, enhancing forecasting accuracy.\n",
        "3. **Time-Series Analysis**: Added ARIMA and decomposition to address time-series requirements, improving trend and seasonality understanding.\n",
        "4. **Market Basket Analysis**: Simulated via department correlations, as transaction data was unavailable, providing actionable bundling insights.\n",
        "5. **Customer Segmentation**: Clarified store vs. customer segmentation; used store-level clustering but noted department patterns for customer inference.\n",
        "6. **External Factors**: Added partial dependence plots to quantify CPI/unemployment/fuel price impacts, enhancing business relevance.\n",
        "7. **Strategies**: Detailed specific actions (e.g., department bundling, holiday stocking) with feasibility considerations.\n",
        "8. **Code Quality**: Modularized with clear comments; ensured single-run execution.\n",
        "9. **Visualizations**: Added time-series decomposition and cluster scatter plots for clarity."
      ],
      "metadata": {
        "id": "k-FJA-vO5fzt"
      }
    }
  ]
}